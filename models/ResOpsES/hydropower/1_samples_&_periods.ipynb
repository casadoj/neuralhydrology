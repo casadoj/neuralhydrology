{
 "cells": [
  {
   "cell_type": "code",
   "execution_count": 1,
   "id": "22761123-37dc-4691-89d3-b37d6b2e31e4",
   "metadata": {
    "tags": []
   },
   "outputs": [],
   "source": [
    "import sys\n",
    "sys.path.append('../..')\n",
    "import numpy as np\n",
    "import pandas as pd\n",
    "from pathlib import Path\n",
    "from model_utils import split_samples, split_periods\n",
    "from plots import plot_timeseries\n",
    "from neuralhydrology.utils.config import Config\n",
    "import xarray as xr\n",
    "from tqdm.auto import tqdm\n",
    "import pickle"
   ]
  },
  {
   "cell_type": "code",
   "execution_count": 2,
   "id": "8cb2eb99-88cc-4e40-96dc-77c08aeb9dc8",
   "metadata": {
    "tags": []
   },
   "outputs": [],
   "source": [
    "import matplotlib.pyplot as plt"
   ]
  },
  {
   "cell_type": "code",
   "execution_count": 3,
   "id": "d9f8c2bd-a014-4c30-be4c-64211e220f06",
   "metadata": {
    "tags": []
   },
   "outputs": [],
   "source": [
    "import cartopy.crs as ccrs\n",
    "import cartopy.feature as cfeature"
   ]
  },
  {
   "cell_type": "markdown",
   "id": "5e5a09d1-2a23-48b0-bf38-0bb5147a7798",
   "metadata": {
    "id": "hmggHyt3tbff"
   },
   "source": [
    "## Configuración"
   ]
  },
  {
   "cell_type": "code",
   "execution_count": 4,
   "id": "f43eda38-06fe-4e49-8a47-af290c655a02",
   "metadata": {
    "tags": []
   },
   "outputs": [],
   "source": [
    "TRAIN_SIZE = .7\n",
    "VAL_SIZE = .3"
   ]
  },
  {
   "cell_type": "code",
   "execution_count": 5,
   "id": "9ed2ab46-a3e0-45f8-977e-a5d69952309d",
   "metadata": {
    "colab": {
     "base_uri": "https://localhost:8080/"
    },
    "executionInfo": {
     "elapsed": 785,
     "status": "ok",
     "timestamp": 1694890697661,
     "user": {
      "displayName": "Jesús Casado Rodríguez",
      "userId": "18221488739992928084"
     },
     "user_tz": -120
    },
    "id": "sC9wXa4Itbff",
    "outputId": "67b7a2d5-d6f3-489d-f2f0-78e6cef220fe",
    "tags": []
   },
   "outputs": [
    {
     "name": "stdout",
     "output_type": "stream",
     "text": [
      "V_lstm64_fc32_do03\n",
      "epochs:\t\t50\n",
      "hidden size:\t64\n",
      "batch size:\t128\n",
      "dropout:\t0.5\n",
      "clip gradients:\t1\n"
     ]
    }
   ],
   "source": [
    "# cargar archivo de configuración\n",
    "config_file = Path('config_V_lstm64_fc32_do03.yml')\n",
    "cfg = Config(config_file)\n",
    "\n",
    "target = cfg.target_variables[0]\n",
    "\n",
    "print(cfg.experiment_name)\n",
    "print('epochs:', cfg.epochs, sep='\\t\\t')\n",
    "print('hidden size:', cfg.hidden_size, sep='\\t')\n",
    "print('batch size:', cfg.batch_size, sep='\\t')\n",
    "print('dropout:', cfg.output_dropout, sep='\\t')\n",
    "print('clip gradients:', cfg.clip_gradient_norm, sep='\\t')"
   ]
  },
  {
   "cell_type": "markdown",
   "id": "b102dd82-6c5b-41f9-b554-03a83e3d2935",
   "metadata": {},
   "source": [
    "## Samples "
   ]
  },
  {
   "cell_type": "code",
   "execution_count": 6,
   "id": "8f98ade0-8cc7-45f6-ae3e-45534af490d4",
   "metadata": {
    "tags": []
   },
   "outputs": [
    {
     "name": "stdout",
     "output_type": "stream",
     "text": [
      "Reservoirs in the original attribute table:\t290\n",
      "Reservoirs in the original use table:\t\t290\n",
      "Single-use hydopower reservoirs:\t\t28\n"
     ]
    }
   ],
   "source": [
    "# load attribute table\n",
    "attrs = pd.read_csv(cfg.data_dir / 'attributes' / 'attributes_combined.csv', index_col='reservoir_id')\n",
    "print('Reservoirs in the original attribute table:\\t{0}'.format(attrs.shape[0]))\n",
    "\n",
    "# load reservoir use table\n",
    "use = pd.read_csv(cfg.data_dir / 'attributes' / 'attributes_use.csv', index_col='reservoir_id')\n",
    "print('Reservoirs in the original use table:\\t\\t{0}'.format(use.shape[0]))\n",
    "\n",
    "# select single-use, hydropower reservoirs\n",
    "single_use = use.sum(axis=1) == 1\n",
    "hydropower = use.hydropower == 1\n",
    "attrs_sel = attrs.loc[hydropower & single_use]\n",
    "print('Single-use hydopower reservoirs:\\t\\t{0}'.format(attrs_sel.shape[0]))\n",
    "\n",
    "# divide sample in calibration, validation and test subsets\n",
    "path = cfg.train_basin_file.parent\n",
    "path.mkdir(exist_ok=True)\n",
    "samples = split_samples(attrs_sel.index.tolist(), cal=TRAIN_SIZE, val=VAL_SIZE, seed=0)#, path=path)\n",
    "\n",
    "# export or put out\n",
    "if path is not None:\n",
    "    for key, ls in samples.items():\n",
    "        with open(path / f'sample_{key}.txt', 'w') as file:\n",
    "            file.writelines(f\"{id}\\n\" for id in ls)"
   ]
  },
  {
   "cell_type": "code",
   "execution_count": 7,
   "id": "580c3023-e720-4ab4-9760-27cfd951c875",
   "metadata": {
    "tags": []
   },
   "outputs": [
    {
     "data": {
      "image/png": "[encoded data removed]",
      "text/plain": [
       "<Figure size 640x480 with 1 Axes>"
      ]
     },
     "metadata": {},
     "output_type": "display_data"
    }
   ],
   "source": [
    "# plot reservoir locations\n",
    "fig, ax = plt.subplots(subplot_kw=dict(projection=ccrs.PlateCarree()))\n",
    "ax.add_feature(cfeature.NaturalEarthFeature('physical', 'land', '10m', edgecolor='face', facecolor='lightgray'),\n",
    "               alpha=.5,\n",
    "               zorder=0)\n",
    "for sample, ids in samples.items():\n",
    "    ax.scatter(attrs_sel.loc[ids, 'LON'], attrs_sel.loc[ids, 'LAT'], s=5, alpha=.5, label=sample)\n",
    "ax.set_aspect('equal')\n",
    "ax.set_extent([-10, 3.5, 36, 44])\n",
    "fig.legend(frameon=False)\n",
    "ax.axis('off');"
   ]
  },
  {
   "cell_type": "markdown",
   "id": "3beab59d-f8ef-4cc8-90b0-47014a45e276",
   "metadata": {},
   "source": [
    "## Time series\n",
    "\n",
    "### Load"
   ]
  },
  {
   "cell_type": "code",
   "execution_count": 8,
   "id": "ed944eda-9f60-4c3f-a949-2ee71150eec8",
   "metadata": {
    "tags": []
   },
   "outputs": [
    {
     "data": {
      "application/vnd.jupyter.widget-view+json": {
       "model_id": "fbb05be8760349f4bd76306fe55e4766",
       "version_major": 2,
       "version_minor": 0
      },
      "text/plain": [
       "  0%|          | 0/28 [00:00<?, ?it/s]"
      ]
     },
     "metadata": {},
     "output_type": "display_data"
    }
   ],
   "source": [
    "# load timeseries\n",
    "path_ts = cfg.data_dir / 'time_series'\n",
    "timeseries = {}\n",
    "for ID in tqdm(attrs_sel.index):\n",
    "    file = path_ts / f'{ID}.nc'\n",
    "    if file.is_file():\n",
    "        timeseries[ID] = xr.open_dataset(file).to_pandas()#[cfg.target_variables].to_pandas()\n",
    "    else:\n",
    "        print(f'{file} was not found')"
   ]
  },
  {
   "cell_type": "markdown",
   "id": "78a3023f-1633-4659-870b-e8fc98c8542d",
   "metadata": {},
   "source": [
    "### Periods "
   ]
  },
  {
   "cell_type": "code",
   "execution_count": 13,
   "id": "349cd597-fe43-4420-9b08-be53517d8e39",
   "metadata": {
    "tags": []
   },
   "outputs": [],
   "source": [
    "# hard-code start of time series for reservoirs with errors\n",
    "correct_start = {84: np.datetime64('1995-10-01', 'ns'),\n",
    "                 2111: np.datetime64('1995-10-01', 'ns'),\n",
    "                 2431: np.datetime64('1995-10-01', 'ns'),\n",
    "                 2483: np.datetime64('1995-10-01', 'ns'),\n",
    "                 593: np.datetime64('1995-10-01', 'ns')}\n",
    "\n",
    "# define train, validation and test periods\n",
    "periods = {}\n",
    "for ID, df in timeseries.items():\n",
    "    if ID in samples['train']:\n",
    "        period = 'train'\n",
    "        da = split_periods(df, cal=1, val=0)\n",
    "    elif ID in samples['validation']:\n",
    "        period = 'validation'\n",
    "        da = split_periods(df, cal=0, val=1)\n",
    "    if ID in correct_start:\n",
    "        da.loc[{'date': 'start', 'period': period}] = correct_start[ID]\n",
    "    periods[ID] = da\n",
    "periods_da = xr.concat([da.assign_coords(id=str(ID)) for ID, da in periods.items()], dim='id')\n",
    "\n",
    "# make sure there's 1 year of data before the start date\n",
    "cutoff_date = np.datetime64('1992-01-02', 'ns')\n",
    "periods_da = periods_da.where(periods_da >= cutoff_date, other=cutoff_date)\n",
    "del periods\n",
    "\n",
    "# reorganize periods as a dictionary\n",
    "periods_dct = {}\n",
    "for period in periods_da.period.data:\n",
    "    periods_dct[period] = {}\n",
    "    for ID in periods_da.id.data:\n",
    "        periods_dct[period][ID] = {}\n",
    "        for date in periods_da.date.data:\n",
    "            periods_dct[period][ID][f'{date}_dates'] = [pd.Timestamp(periods_da.sel(period=period, id=ID, date=date).to_numpy().item())]\n",
    "\n",
    "# export as a Pickle\n",
    "for period, dct in periods_dct.items():\n",
    "    with open(f'./data/periods_{period}.pkl', 'wb') as file:\n",
    "        pickle.dump(dct, file)"
   ]
  },
  {
   "cell_type": "markdown",
   "id": "f7d3d9e2-59ed-41b0-a9c2-a6d453ac438a",
   "metadata": {},
   "source": [
    "### Plot"
   ]
  },
  {
   "cell_type": "code",
   "execution_count": 11,
   "id": "2a2a3d5c-cafb-4f00-a437-04cd915f5fe0",
   "metadata": {
    "tags": []
   },
   "outputs": [
    {
     "data": {
      "application/vnd.jupyter.widget-view+json": {
       "model_id": "e2f3d4d26b2b42ad8c4686bd46e788f9",
       "version_major": 2,
       "version_minor": 0
      },
      "text/plain": [
       "  0%|          | 0/28 [00:00<?, ?it/s]"
      ]
     },
     "metadata": {},
     "output_type": "display_data"
    }
   ],
   "source": [
    "# plot timeserie\n",
    "path_plots = path_ts / 'plots'\n",
    "path_plots.mkdir(parents=True, exist_ok=True)\n",
    "for ID, df in tqdm(timeseries.items()):\n",
    "    # find start and end dates\n",
    "    for p in list(samples):\n",
    "        if ID in samples[p]:\n",
    "            period = p\n",
    "    start = periods_dct[period][ID]['start_dates'][0]\n",
    "    end = periods_dct[period][ID]['end_dates'][0]\n",
    "    \n",
    "    title = '{0} - {1}\\nDOR = {2:.3f}  DOD = {3:.3f} m'.format(ID, *attrs.loc[ID, ['RES_NAME', 'DOR', 'DOD_M']])\n",
    "    plot_timeseries(df.loc[start:end], 'volume', 'inflow_efas5', 'outflow', ylabel='fraction filled (-)', title=title,\n",
    "                    save=path_plots / f'{ID}.jpg')"
   ]
  }
 ],
 "metadata": {
  "kernelspec": {
   "display_name": "Python [neuralhydrology]",
   "language": "python",
   "name": "conda-env-neuralhydrology-py"
  },
  "language_info": {
   "codemirror_mode": {
    "name": "ipython",
    "version": 3
   },
   "file_extension": ".py",
   "mimetype": "text/x-python",
   "name": "python",
   "nbconvert_exporter": "python",
   "pygments_lexer": "ipython3",
   "version": "3.10.14"
  }
 },
 "nbformat": 4,
 "nbformat_minor": 5
}
