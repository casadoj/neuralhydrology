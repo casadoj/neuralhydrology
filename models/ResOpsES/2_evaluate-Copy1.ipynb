{
 "cells": [
  {
   "cell_type": "markdown",
   "metadata": {
    "id": "a5tGM7HbkLVV"
   },
   "source": [
    "# Evaluation\n",
    "***\n",
    "\n",
    "***Author:** Chus Casado Rodríguez*<br>\n",
    "***Date:** 16-045-2024*<br>\n",
    "\n",
    "**Introduction:**<br>\n",
    "\n",
    "**Por hacer**:"
   ]
  },
  {
   "cell_type": "code",
   "execution_count": 1,
   "metadata": {
    "executionInfo": {
     "elapsed": 14362,
     "status": "ok",
     "timestamp": 1694889013330,
     "user": {
      "displayName": "Jesús Casado Rodríguez",
      "userId": "18221488739992928084"
     },
     "user_tz": -120
    },
    "id": "a_W-qdQ9kLVc",
    "tags": []
   },
   "outputs": [],
   "source": [
    "import os\n",
    "import sys\n",
    "sys.path.append('../')\n",
    "# import pickle\n",
    "import pandas as pd\n",
    "from pathlib import Path\n",
    "import torch\n",
    "from tqdm.notebook import tqdm\n",
    "\n",
    "from neuralhydrology.utils.config import Config\n",
    "from neuralhydrology.evaluation import metrics\n",
    "from neuralhydrology.nh_run import start_run, eval_run\n",
    "\n",
    "from model_utils import *"
   ]
  },
  {
   "cell_type": "code",
   "execution_count": 2,
   "metadata": {
    "tags": []
   },
   "outputs": [
    {
     "name": "stdout",
     "output_type": "stream",
     "text": [
      "running on GPU\n",
      "no. GPU available:\t1\n",
      "Fri May 17 09:38:57 2024       \n",
      "+-----------------------------------------------------------------------------+\n",
      "| NVIDIA-SMI 525.60.13    Driver Version: 525.60.13    CUDA Version: 12.0     |\n",
      "|-------------------------------+----------------------+----------------------+\n",
      "| GPU  Name        Persistence-M| Bus-Id        Disp.A | Volatile Uncorr. ECC |\n",
      "| Fan  Temp  Perf  Pwr:Usage/Cap|         Memory-Usage | GPU-Util  Compute M. |\n",
      "|                               |                      |               MIG M. |\n",
      "|===============================+======================+======================|\n",
      "|   0  Quadro RTX 8000     On   | 00000000:A1:00.0 Off |                  Off |\n",
      "| 33%   57C    P2   218W / 260W |   3405MiB / 49152MiB |     69%      Default |\n",
      "|                               |                      |                  N/A |\n",
      "+-------------------------------+----------------------+----------------------+\n",
      "                                                                               \n",
      "+-----------------------------------------------------------------------------+\n",
      "| Processes:                                                                  |\n",
      "|  GPU   GI   CI        PID   Type   Process name                  GPU Memory |\n",
      "|        ID   ID                                                   Usage      |\n",
      "|=============================================================================|\n",
      "+-----------------------------------------------------------------------------+\n"
     ]
    }
   ],
   "source": [
    "# set device type\n",
    "if torch.cuda.is_available():\n",
    "    gpu = 0\n",
    "    print('running on GPU')\n",
    "    print('no. GPU available:\\t{0}'.format(torch.cuda.device_count()))\n",
    "    !nvidia-smi\n",
    "else:\n",
    "    gpu = -1\n",
    "    print('running on CPU')"
   ]
  },
  {
   "cell_type": "markdown",
   "metadata": {
    "id": "hmggHyt3tbff"
   },
   "source": [
    "### Configuración"
   ]
  },
  {
   "cell_type": "code",
   "execution_count": 3,
   "metadata": {
    "tags": []
   },
   "outputs": [],
   "source": [
    "USE = None\n",
    "SINGLE_USE = False\n",
    "TARGET = 'volume'\n",
    "RUN_ALL = True # evaluate all the epochs?\n",
    "CONFIG_FILE = 'config_V_lstm256_fc00_do04.yml'"
   ]
  },
  {
   "cell_type": "code",
   "execution_count": 4,
   "metadata": {
    "colab": {
     "base_uri": "https://localhost:8080/"
    },
    "executionInfo": {
     "elapsed": 785,
     "status": "ok",
     "timestamp": 1694890697661,
     "user": {
      "displayName": "Jesús Casado Rodríguez",
      "userId": "18221488739992928084"
     },
     "user_tz": -120
    },
    "id": "sC9wXa4Itbff",
    "outputId": "67b7a2d5-d6f3-489d-f2f0-78e6cef220fe",
    "tags": []
   },
   "outputs": [
    {
     "name": "stdout",
     "output_type": "stream",
     "text": [
      "V_lstm256_fc00_do04\n",
      "epochs:\t\t20\n",
      "hidden size:\t256\n",
      "batch size:\t128\n",
      "dropout:\t0.4\n",
      "clip gradients:\t1\n"
     ]
    }
   ],
   "source": [
    "# cargar archivo de configuración\n",
    "if USE:\n",
    "    exp_dir = Path(f'./{USE}/{TARGET}/')\n",
    "else:\n",
    "    exp_dir = Path(f'./all/{TARGET}/')\n",
    "os.chdir(exp_dir)\n",
    "cfg = Config(Path(CONFIG_FILE))\n",
    "\n",
    "target = cfg.target_variables[0]\n",
    "\n",
    "print(cfg.experiment_name)\n",
    "print('epochs:', cfg.epochs, sep='\\t\\t')\n",
    "print('hidden size:', cfg.hidden_size, sep='\\t')\n",
    "print('batch size:', cfg.batch_size, sep='\\t')\n",
    "print('dropout:', cfg.output_dropout, sep='\\t')\n",
    "print('clip gradients:', cfg.clip_gradient_norm, sep='\\t')"
   ]
  },
  {
   "cell_type": "markdown",
   "metadata": {
    "id": "iObWtn15kLVf"
   },
   "source": [
    "### Evaluation"
   ]
  },
  {
   "cell_type": "code",
   "execution_count": 5,
   "metadata": {},
   "outputs": [
    {
     "name": "stdout",
     "output_type": "stream",
     "text": [
      "run directory:\truns/V_lstm256_fc00_do04_1605_161432\n"
     ]
    }
   ],
   "source": [
    "# find the directory of the last run\n",
    "root_run_dir = cfg.run_dir if cfg.run_dir else Path('./runs/')\n",
    "run_dir = max([x for x in root_run_dir.iterdir() if x.is_dir() & x.stem.startswith(cfg.experiment_name)])\n",
    "\n",
    "print('run directory:', run_dir, sep='\\t')"
   ]
  },
  {
   "cell_type": "code",
   "execution_count": 6,
   "metadata": {},
   "outputs": [],
   "source": [
    "# # extraer el rendimiento de cada época y muestra\n",
    "# metrics = pd.DataFrame(columns=range(1, cfg.epochs + 1))\n",
    "# for epoch in tqdm(metrics.columns):\n",
    "#     try:\n",
    "#         _, metrics[epoch] = get_results(run_dir, 'validation', epoch=epoch)\n",
    "#     except:\n",
    "#         continue\n",
    "\n",
    "# best_epoch = metrics.median().idxmax()\n",
    "# print('mejor época: {0}\\t\\tKGE = {1:.3f}'.format(best_epoch, metrics.median().max()))"
   ]
  },
  {
   "cell_type": "code",
   "execution_count": 7,
   "metadata": {
    "colab": {
     "base_uri": "https://localhost:8080/"
    },
    "executionInfo": {
     "elapsed": 915209,
     "status": "ok",
     "timestamp": 1694892429233,
     "user": {
      "displayName": "Jesús Casado Rodríguez",
      "userId": "18221488739992928084"
     },
     "user_tz": -120
    },
    "id": "WIDqiVX-2pVa",
    "outputId": "86aae21f-f20e-4c84-8925-406f5a697e7e",
    "tags": []
   },
   "outputs": [
    {
     "name": "stdout",
     "output_type": "stream",
     "text": [
      "# Evaluation: 100% 203/203 [05:36<00:00,  1.66s/it]\n",
      "# Evaluation: 100% 203/203 [05:33<00:00,  1.64s/it]\n",
      "# Evaluation: 100% 203/203 [05:41<00:00,  1.68s/it]\n",
      "# Evaluation: 100% 203/203 [05:39<00:00,  1.67s/it]\n",
      "# Evaluation: 100% 203/203 [05:37<00:00,  1.66s/it]\n",
      "# Evaluation: 100% 203/203 [05:39<00:00,  1.67s/it]\n"
     ]
    }
   ],
   "source": [
    "for period in ['train']:#, 'test']:\n",
    "    if RUN_ALL:\n",
    "        for epoch in np.arange(15, cfg.epochs + 1):\n",
    "            eval_run(run_dir=run_dir, period=period, epoch=epoch, gpu=gpu)\n",
    "    else:\n",
    "        eval_run(run_dir=run_dir, period=period, epoch=best_epoch, gpu=gpu)"
   ]
  },
  {
   "cell_type": "markdown",
   "metadata": {},
   "source": [
    "## Results\n",
    "\n",
    "### Evolution of training and validation"
   ]
  },
  {
   "cell_type": "code",
   "execution_count": null,
   "metadata": {
    "tags": []
   },
   "outputs": [],
   "source": [
    "# extraer el rendimiento de cada época y muestra\n",
    "metrics = {period: pd.DataFrame(columns=range(1, cfg.epochs + 1)) for period in ['train', 'validation']} # ['train', 'validation', 'test']}\n",
    "for period, df in tqdm(metrics.items(), desc='period'):\n",
    "    for epoch in df.columns:\n",
    "        try:\n",
    "            _, df[epoch] = get_results(run_dir, period, epoch=epoch)\n",
    "        except:\n",
    "            continue"
   ]
  },
  {
   "cell_type": "code",
   "execution_count": null,
   "metadata": {
    "tags": []
   },
   "outputs": [],
   "source": [
    "import matplotlib.patches as mpatches"
   ]
  },
  {
   "cell_type": "code",
   "execution_count": null,
   "metadata": {
    "tags": []
   },
   "outputs": [],
   "source": [
    "fig, ax = plt.subplots(figsize=(20, 5))\n",
    "\n",
    "colors = ['steelblue', 'indianred', 'khaki']\n",
    "patches = []\n",
    "for i, ((period, df), c) in enumerate(zip(metrics.items(), colors)):\n",
    "    bp = ax.boxplot(df, positions=df.columns + i * .25, widths=0.25,\n",
    "                    patch_artist=True,\n",
    "                    boxprops={'color': c, 'alpha': .5},\n",
    "                    # whiskerprops={},\n",
    "                    showfliers=False,\n",
    "                    medianprops={'color': 'k'})\n",
    "    for box in bp['boxes']:\n",
    "        box.set_facecolor(c)\n",
    "    patches.append(mpatches.Patch(color=c, alpha=.5, label=period))\n",
    "\n",
    "# ax.set_ylim(-1, 1);\n",
    "xticks = np.linspace(1, cfg.epochs, num=cfg.epochs).astype(int)\n",
    "ax.set_xticks(xticks)\n",
    "ax.set_xticklabels(xticks)\n",
    "ax.set(xlabel='epoch (-)',\n",
    "       ylabel=f'{cfg.metrics[0]} (-)');\n",
    "\n",
    "ax.legend(handles=patches, frameon=False, bbox_to_anchor=[1, .35, .1, .3]);\n",
    "\n",
    "plt.savefig(run_dir / 'evolucion_KGE.jpg', dpi=300, bbox_inches='tight')"
   ]
  },
  {
   "cell_type": "markdown",
   "metadata": {},
   "source": [
    "### Best epoch"
   ]
  },
  {
   "cell_type": "code",
   "execution_count": null,
   "metadata": {
    "tags": []
   },
   "outputs": [],
   "source": [
    "# mejor época de cada muestra y el rendimiento de cada muestra en esa época\n",
    "best_epoch = {}\n",
    "for period, df in metrics.items():\n",
    "    epoch = df.median().idxmax()\n",
    "    best_epoch[period] = epoch\n",
    "    print('epoch {0:>2}:\\tKGEtrain = {1:.3f}   KGEval = {2:.3f}'.format(epoch,\n",
    "                                                                        metrics['train'][epoch].median(),\n",
    "                                                                        metrics['validation'][epoch].median()))\n",
    "epoch = best_epoch['validation']"
   ]
  },
  {
   "cell_type": "code",
   "execution_count": null,
   "metadata": {
    "tags": []
   },
   "outputs": [],
   "source": [
    "# rendimiento y series simuladas de la mejor época\n",
    "series = {}\n",
    "rendimiento = pd.DataFrame()\n",
    "for period in ['train', 'validation']:\n",
    "    # importar resultados\n",
    "    series_period, rend_period = get_results(run_dir, period, epoch=epoch)\n",
    "    rend_period.columns = [period]\n",
    "    series[period] = series_period\n",
    "    rendimiento = pd.concat((rendimiento, rend_period), axis=1)"
   ]
  },
  {
   "cell_type": "code",
   "execution_count": null,
   "metadata": {
    "tags": []
   },
   "outputs": [],
   "source": [
    "# hidrogramas\n",
    "# if hidrogramas:\n",
    "for period, dct in series.items():\n",
    "    path = run_dir / 'plots' / period\n",
    "    path.mkdir(parents=True, exist_ok=True)\n",
    "    plot_results(dct, period, target=cfg.target_variables[0], ylim=(-.05, 1.05), ylabel='fraction filled (-)', save=None)#path)"
   ]
  },
  {
   "cell_type": "code",
   "execution_count": null,
   "metadata": {},
   "outputs": [],
   "source": []
  }
 ],
 "metadata": {
  "accelerator": "GPU",
  "colab": {
   "gpuType": "V100",
   "provenance": []
  },
  "kernelspec": {
   "display_name": "Python [neuralhydrology]",
   "language": "python",
   "name": "conda-env-neuralhydrology-py"
  },
  "language_info": {
   "codemirror_mode": {
    "name": "ipython",
    "version": 3
   },
   "file_extension": ".py",
   "mimetype": "text/x-python",
   "name": "python",
   "nbconvert_exporter": "python",
   "pygments_lexer": "ipython3",
   "version": "3.10.14"
  }
 },
 "nbformat": 4,
 "nbformat_minor": 4
}
