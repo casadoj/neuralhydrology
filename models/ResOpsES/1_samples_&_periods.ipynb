{
 "cells": [
  {
   "cell_type": "markdown",
   "id": "ba84dc8b-0fa1-467d-815e-73525df4fd73",
   "metadata": {},
   "source": [
    "# Samples and periods\n",
    "***\n",
    "\n",
    "***Author:** Chus Casado Rodríguez*<br>\n",
    "***Date:** 04-06-2024*<br>\n",
    "\n",
    "**Introduction**\n",
    "\n",
    "In this notebook a sample of reservoirs and its corresponding time series are split into a training, validating and testing sample and periods. The size of the three samples is configured with the attributes `TRAIN_SIZE` and `VAL_SIZE` (the testing size, if any, is the remaining of 1 minus the train and validation size). At the moment, to include longer time series in the training/testing process, the complete time series of a specific reservoir is used for either training, validating or testing, depending on the sample to which that specific reservoir belongs to. That means that there is not temporal validation. To change this behaviour, modifications must be made on the use of the `split_periods` function.\n",
    "\n",
    "The notebook allows to select reservoir with a specific use and single-purpose using the configuration attributes `USE` and `SINGLE_USE`, respectively.\n",
    "\n",
    "The attribute `TARGET` is used to select the configuration files specific to the target variable."
   ]
  },
  {
   "cell_type": "code",
   "execution_count": 1,
   "id": "41164c19-f079-4dc9-965c-e21c98ecd7fb",
   "metadata": {
    "tags": []
   },
   "outputs": [],
   "source": [
    "import sys\n",
    "sys.path.append('..')\n",
    "from pathlib import Path\n",
    "import numpy as np\n",
    "import pandas as pd\n",
    "import xarray as xr\n",
    "from tqdm.auto import tqdm\n",
    "import pickle\n",
    "import matplotlib.pyplot as plt\n",
    "import cartopy.crs as ccrs\n",
    "import cartopy.feature as cfeature\n",
    "\n",
    "from neuralhydrology.utils.config import Config\n",
    "\n",
    "from plots import plot_timeseries\n",
    "from model_utils import split_samples, split_periods"
   ]
  },
  {
   "cell_type": "markdown",
   "id": "5e5a09d1-2a23-48b0-bf38-0bb5147a7798",
   "metadata": {
    "id": "hmggHyt3tbff"
   },
   "source": [
    "## Configuración"
   ]
  },
  {
   "cell_type": "code",
   "execution_count": 2,
   "id": "f43eda38-06fe-4e49-8a47-af290c655a02",
   "metadata": {
    "tags": []
   },
   "outputs": [],
   "source": [
    "TRAIN_SIZE = .6 # 1\n",
    "VAL_SIZE = .2 # 0 # 1.\n",
    "TRAIN_PERIOD = 1. # .6\n",
    "VAL_PERIOD = 0. # .2\n",
    "MIN_DOR = 0.08 # approximately one month regulation\n",
    "MIN_DOD = 0.06\n",
    "USE = None #'supply'\n",
    "SINGLE_USE = False #True\n",
    "HEADWATER = True\n",
    "TARGET = 'volume'\n",
    "SUFFIX = 'bc_hw' #'time_validation' # 'disruptive2'"
   ]
  },
  {
   "cell_type": "code",
   "execution_count": 3,
   "id": "3fab49c2-df84-4683-9d19-2ecd1f009362",
   "metadata": {
    "tags": []
   },
   "outputs": [],
   "source": [
    "# remove reservoirs\n",
    "remove_reservoirs = [68, 314, 317, 380, 484, 500, 526, 556, 598, 692, 735, 793, 834, 863, 881, 971, 1156, 1290, 1485, 1649, 1665, 1807, 2024, 2101, 2197, 2366,]"
   ]
  },
  {
   "cell_type": "code",
   "execution_count": 4,
   "id": "e26959c5-2966-4ddd-a3ad-38c3c8636d61",
   "metadata": {
    "tags": []
   },
   "outputs": [],
   "source": [
    "# hard-code start of time series for reservoirs with errors\n",
    "correct_start = {56: np.datetime64('1996-10-01', 'ns'),\n",
    "                 84: np.datetime64('1996-10-01', 'ns'),\n",
    "                 153: np.datetime64('1996-10-01', 'ns'),\n",
    "                 316: np.datetime64('1996-10-01', 'ns'),\n",
    "                 441: np.datetime64('1996-10-01', 'ns'),\n",
    "                 481: np.datetime64('2008-10-01', 'ns'),\n",
    "                 593: np.datetime64('1995-10-01', 'ns'),\n",
    "                 692: np.datetime64('1996-10-01', 'ns'),\n",
    "                 829: np.datetime64('2000-10-01', 'ns'),\n",
    "                 1066: np.datetime64('2005-10-01', 'ns'),\n",
    "                 1125: np.datetime64('2008-10-01', 'ns'),\n",
    "                 1367: np.datetime64('2010-10-01', 'ns'),\n",
    "                 1450: np.datetime64('2013-10-01', 'ns'),\n",
    "                 1463: np.datetime64('2008-10-01', 'ns'),\n",
    "                 1984: np.datetime64('2008-10-01', 'ns'),\n",
    "                 2111: np.datetime64('1995-10-01', 'ns'),\n",
    "                 2193: np.datetime64('1996-10-01', 'ns'),\n",
    "                 2222: np.datetime64('1997-10-01', 'ns'),\n",
    "                 2431: np.datetime64('1995-10-01', 'ns'),\n",
    "                 2483: np.datetime64('1995-10-01', 'ns'),\n",
    "                 2495: np.datetime64('2008-10-01', 'ns'),\n",
    "                 }"
   ]
  },
  {
   "cell_type": "code",
   "execution_count": 5,
   "id": "9ed2ab46-a3e0-45f8-977e-a5d69952309d",
   "metadata": {
    "colab": {
     "base_uri": "https://localhost:8080/"
    },
    "executionInfo": {
     "elapsed": 785,
     "status": "ok",
     "timestamp": 1694890697661,
     "user": {
      "displayName": "Jesús Casado Rodríguez",
      "userId": "18221488739992928084"
     },
     "user_tz": -120
    },
    "id": "sC9wXa4Itbff",
    "outputId": "67b7a2d5-d6f3-489d-f2f0-78e6cef220fe",
    "tags": []
   },
   "outputs": [
    {
     "name": "stdout",
     "output_type": "stream",
     "text": [
      "Reading configuration file:\n",
      "all/volume/config_V_lstm256_do04_bc_hw.yml\n"
     ]
    }
   ],
   "source": [
    "# cargar archivo de configuración\n",
    "if USE:\n",
    "    exp_dir = Path(f'./{USE}/{TARGET}/')\n",
    "else:\n",
    "    exp_dir = Path(f'./all/{TARGET}/')   \n",
    "# config_file = list(exp_dir.glob('config_*.yml'))[0]\n",
    "config_file = exp_dir / 'config_V_lstm256_do04_bc_hw.yml'\n",
    "print(f'Reading configuration file:\\n{config_file}')\n",
    "cfg = Config(config_file)\n",
    "\n",
    "if len(set(TARGET.split('_')).difference(cfg.target_variables)) > 0:\n",
    "    print(f'ERROR. The targets do not match with the experiment folder:\\n{exp_dir}\\n{cfg.target_variables}')"
   ]
  },
  {
   "cell_type": "markdown",
   "id": "33dc52a9-a86c-4511-a902-ea7c95da210c",
   "metadata": {},
   "source": [
    "## Load data\n",
    "\n",
    "### Attributes"
   ]
  },
  {
   "cell_type": "code",
   "execution_count": 10,
   "id": "31528310-7917-47cb-9dc8-3dde4a50b2a9",
   "metadata": {
    "tags": []
   },
   "outputs": [
    {
     "name": "stdout",
     "output_type": "stream",
     "text": [
      "Reservoirs in the original attribute table:\t\t260\n",
      "\n",
      "Reservoirs exceeding the degree of regulation 0.08:\t198\n",
      "Reservoirs exceeding the degree of disruptivity 0.06 m:\t164\n",
      "Reservoirs after filtering by disruptivity:\t\t161\n",
      "\n"
     ]
    }
   ],
   "source": [
    "# load attribute table\n",
    "attrs = pd.read_csv(cfg.data_dir / 'attributes' / 'attributes_combined.csv', index_col='reservoir_id')\n",
    "attrs = attrs[attrs.columns.intersection(cfg.static_attributes + ['RES_NAME', 'HEADWATER'])]\n",
    "attrs.dropna(axis=0, how='any', inplace=True)\n",
    "print('Reservoirs in the original attribute table:\\t\\t{0}\\n'.format(attrs.shape[0]))\n",
    "\n",
    "# remove manually selected reservoirs\n",
    "remove_reservoirs = set(remove_reservoirs).intersection(attrs.index)\n",
    "attrs.drop(remove_reservoirs, axis=0, inplace=True)\n",
    "\n",
    "# filter reservoirs by disruptivity indices\n",
    "mask_DOR = attrs.DOR > MIN_DOR\n",
    "print('Reservoirs exceeding the degree of regulation {0}:\\t{1}'.format(MIN_DOR,\n",
    "                                                                       mask_DOR.sum()))\n",
    "mask_DOD = attrs.DOD_M > MIN_DOD\n",
    "print('Reservoirs exceeding the degree of disruptivity {0} m:\\t{1}'.format(MIN_DOD,\n",
    "                                                                         mask_DOD.sum()))\n",
    "attrs = attrs.loc[mask_DOR & mask_DOD, :]\n",
    "print('Reservoirs after filtering by disruptivity:\\t\\t{0}\\n'.format(attrs.shape[0]))"
   ]
  },
  {
   "cell_type": "code",
   "execution_count": 11,
   "id": "0514921f-f848-429e-9bcc-67317817e250",
   "metadata": {
    "tags": []
   },
   "outputs": [
    {
     "name": "stdout",
     "output_type": "stream",
     "text": [
      "Reservoirs in the original use table:\t\t\t290\n",
      "\n"
     ]
    }
   ],
   "source": [
    "# load reservoir use table\n",
    "use = pd.read_csv(cfg.data_dir / 'attributes' / 'attributes_use.csv', index_col='reservoir_id')\n",
    "use = use[use.columns.intersection(cfg.static_attributes)]\n",
    "use.dropna(axis=0, how='any', inplace=True)\n",
    "print('Reservoirs in the original use table:\\t\\t\\t{0}\\n'.format(use.shape[0]))\n",
    "\n",
    "if attrs.shape[0] != use.shape[0]:\n",
    "    ids = attrs.index.intersection(use.index)\n",
    "    attrs = attrs.loc[ids]\n",
    "    use = use.loc[ids]"
   ]
  },
  {
   "cell_type": "code",
   "execution_count": 12,
   "id": "c8b11544-2a78-464c-8989-56f8924692f4",
   "metadata": {
    "tags": []
   },
   "outputs": [],
   "source": [
    "# select reservoirs by use\n",
    "if SINGLE_USE:\n",
    "    mask1 = use.sum(axis=1) == 1\n",
    "else:\n",
    "    mask1 = pd.Series(True, index=use.index)\n",
    "if USE:\n",
    "    mask2 = use[USE] == 1\n",
    "else:\n",
    "    mask2 = pd.Series(True, index=use.index)\n",
    "attrs_sel = attrs.loc[mask1 & mask2]"
   ]
  },
  {
   "cell_type": "code",
   "execution_count": 13,
   "id": "c601319a-607d-49c5-a98d-f6d5637197fe",
   "metadata": {
    "tags": []
   },
   "outputs": [
    {
     "data": {
      "text/html": [
       "<div>\n",
       "<style scoped>\n",
       "    .dataframe tbody tr th:only-of-type {\n",
       "        vertical-align: middle;\n",
       "    }\n",
       "\n",
       "    .dataframe tbody tr th {\n",
       "        vertical-align: top;\n",
       "    }\n",
       "\n",
       "    .dataframe thead th {\n",
       "        text-align: right;\n",
       "    }\n",
       "</style>\n",
       "<table border=\"1\" class=\"dataframe\">\n",
       "  <thead>\n",
       "    <tr style=\"text-align: right;\">\n",
       "      <th></th>\n",
       "      <th>RES_NAME</th>\n",
       "      <th>LON</th>\n",
       "      <th>LAT</th>\n",
       "      <th>CAP_MCM</th>\n",
       "      <th>AREA_SKM</th>\n",
       "      <th>DAM_HGT_M</th>\n",
       "      <th>ELEV_MASL</th>\n",
       "      <th>CATCH_SKM</th>\n",
       "      <th>DOD_M</th>\n",
       "      <th>DOR</th>\n",
       "      <th>HEADWATER</th>\n",
       "    </tr>\n",
       "    <tr>\n",
       "      <th>reservoir_id</th>\n",
       "      <th></th>\n",
       "      <th></th>\n",
       "      <th></th>\n",
       "      <th></th>\n",
       "      <th></th>\n",
       "      <th></th>\n",
       "      <th></th>\n",
       "      <th></th>\n",
       "      <th></th>\n",
       "      <th></th>\n",
       "      <th></th>\n",
       "    </tr>\n",
       "  </thead>\n",
       "  <tbody>\n",
       "    <tr>\n",
       "      <th>10</th>\n",
       "      <td>LA ACEÑA</td>\n",
       "      <td>-4.221482</td>\n",
       "      <td>40.612524</td>\n",
       "      <td>24.0</td>\n",
       "      <td>1.15</td>\n",
       "      <td>65.73</td>\n",
       "      <td>1319.00</td>\n",
       "      <td>60.012580</td>\n",
       "      <td>0.399916</td>\n",
       "      <td>1.292038</td>\n",
       "      <td>1</td>\n",
       "    </tr>\n",
       "    <tr>\n",
       "      <th>1019</th>\n",
       "      <td>GASSET</td>\n",
       "      <td>-3.937646</td>\n",
       "      <td>39.128599</td>\n",
       "      <td>42.0</td>\n",
       "      <td>7.36</td>\n",
       "      <td>16.64</td>\n",
       "      <td>626.54</td>\n",
       "      <td>167.891744</td>\n",
       "      <td>0.250161</td>\n",
       "      <td>2.155208</td>\n",
       "      <td>1</td>\n",
       "    </tr>\n",
       "    <tr>\n",
       "      <th>1033</th>\n",
       "      <td>GIRIBAILE</td>\n",
       "      <td>-3.512734</td>\n",
       "      <td>38.091200</td>\n",
       "      <td>475.0</td>\n",
       "      <td>24.93</td>\n",
       "      <td>89.00</td>\n",
       "      <td>355.50</td>\n",
       "      <td>2877.323520</td>\n",
       "      <td>0.165084</td>\n",
       "      <td>1.896358</td>\n",
       "      <td>0</td>\n",
       "    </tr>\n",
       "    <tr>\n",
       "      <th>1038</th>\n",
       "      <td>GONZALEZ LACASA</td>\n",
       "      <td>-2.672753</td>\n",
       "      <td>42.173781</td>\n",
       "      <td>33.0</td>\n",
       "      <td>1.52</td>\n",
       "      <td>70.50</td>\n",
       "      <td>996.50</td>\n",
       "      <td>45.884336</td>\n",
       "      <td>0.719200</td>\n",
       "      <td>0.744276</td>\n",
       "      <td>1</td>\n",
       "    </tr>\n",
       "    <tr>\n",
       "      <th>1047</th>\n",
       "      <td>EL GRADO I</td>\n",
       "      <td>0.234453</td>\n",
       "      <td>42.151197</td>\n",
       "      <td>400.0</td>\n",
       "      <td>12.98</td>\n",
       "      <td>130.00</td>\n",
       "      <td>453.00</td>\n",
       "      <td>2140.492672</td>\n",
       "      <td>0.186873</td>\n",
       "      <td>0.311567</td>\n",
       "      <td>0</td>\n",
       "    </tr>\n",
       "  </tbody>\n",
       "</table>\n",
       "</div>"
      ],
      "text/plain": [
       "                     RES_NAME       LON        LAT  CAP_MCM  AREA_SKM  \\\n",
       "reservoir_id                                                            \n",
       "10                   LA ACEÑA -4.221482  40.612524     24.0      1.15   \n",
       "1019                   GASSET -3.937646  39.128599     42.0      7.36   \n",
       "1033                GIRIBAILE -3.512734  38.091200    475.0     24.93   \n",
       "1038          GONZALEZ LACASA -2.672753  42.173781     33.0      1.52   \n",
       "1047               EL GRADO I  0.234453  42.151197    400.0     12.98   \n",
       "\n",
       "              DAM_HGT_M  ELEV_MASL    CATCH_SKM     DOD_M       DOR  HEADWATER  \n",
       "reservoir_id                                                                    \n",
       "10                65.73    1319.00    60.012580  0.399916  1.292038          1  \n",
       "1019              16.64     626.54   167.891744  0.250161  2.155208          1  \n",
       "1033              89.00     355.50  2877.323520  0.165084  1.896358          0  \n",
       "1038              70.50     996.50    45.884336  0.719200  0.744276          1  \n",
       "1047             130.00     453.00  2140.492672  0.186873  0.311567          0  "
      ]
     },
     "execution_count": 13,
     "metadata": {},
     "output_type": "execute_result"
    }
   ],
   "source": [
    "attrs_sel.head()"
   ]
  },
  {
   "cell_type": "code",
   "execution_count": 15,
   "id": "1eeb11ec-7c32-4472-bb90-b3d92398493c",
   "metadata": {
    "tags": []
   },
   "outputs": [],
   "source": [
    "# select headwater reservoirs\n",
    "if HEADWATER:\n",
    "    attrs_sel = attrs_sel.loc[attrs_sel.HEADWATER == 1]"
   ]
  },
  {
   "cell_type": "code",
   "execution_count": 16,
   "id": "2f074acd-0728-4a77-a0a0-1ad73da371c1",
   "metadata": {
    "tags": []
   },
   "outputs": [
    {
     "name": "stdout",
     "output_type": "stream",
     "text": [
      "Selected reservoirs:\t\t\t\t\t121\n"
     ]
    }
   ],
   "source": [
    "print('Selected reservoirs:\\t\\t\\t\\t\\t{0}'.format(attrs_sel.shape[0]))"
   ]
  },
  {
   "cell_type": "markdown",
   "id": "3beab59d-f8ef-4cc8-90b0-47014a45e276",
   "metadata": {},
   "source": [
    "### Time series"
   ]
  },
  {
   "cell_type": "code",
   "execution_count": 17,
   "id": "07212fb9-b843-431d-a0de-e64e51468d31",
   "metadata": {
    "tags": []
   },
   "outputs": [
    {
     "data": {
      "application/vnd.jupyter.widget-view+json": {
       "model_id": "e5bbd21a4c7343bcab732d309e6e0d59",
       "version_major": 2,
       "version_minor": 0
      },
      "text/plain": [
       "  0%|          | 0/121 [00:00<?, ?it/s]"
      ]
     },
     "metadata": {},
     "output_type": "display_data"
    },
    {
     "name": "stdout",
     "output_type": "stream",
     "text": [
      "Reservoirs with all dynamic variables:\t\t121\n"
     ]
    }
   ],
   "source": [
    "# variables required by the model\n",
    "ts_vars = cfg.target_variables + cfg.dynamic_inputs\n",
    "\n",
    "# load timeseries\n",
    "path_ts = cfg.data_dir / 'time_series'\n",
    "timeseries = {}\n",
    "for ID in tqdm(attrs_sel.index):\n",
    "    file = path_ts / f'{ID}.nc'\n",
    "    if file.is_file():\n",
    "        try:\n",
    "            timeseries[ID] = xr.open_dataset(file).to_pandas()[ts_vars]\n",
    "        except Exception as e:\n",
    "            print(f'{ID}: {e}')\n",
    "            attrs_sel.drop(ID, axis=0, inplace=True)\n",
    "    else:\n",
    "        print(f'{file} was not found')\n",
    "        \n",
    "print('Reservoirs with all dynamic variables:\\t\\t{0}'.format(len(timeseries)))"
   ]
  },
  {
   "cell_type": "markdown",
   "id": "b102dd82-6c5b-41f9-b554-03a83e3d2935",
   "metadata": {},
   "source": [
    "## Split samples and periods\n",
    "\n",
    "### Samples"
   ]
  },
  {
   "cell_type": "code",
   "execution_count": 18,
   "id": "53ae6eff-b6f4-41ec-8753-7d2d02e3d3bf",
   "metadata": {
    "tags": []
   },
   "outputs": [
    {
     "name": "stdout",
     "output_type": "stream",
     "text": [
      "train:\t73 reservoirs\n",
      "validation:\t24 reservoirs\n",
      "test:\t24 reservoirs\n"
     ]
    }
   ],
   "source": [
    "# divide sample in calibration, validation and test subsets\n",
    "path = exp_dir / cfg.train_basin_file.parent\n",
    "path.mkdir(exist_ok=True)\n",
    "samples = split_samples(attrs_sel.index.tolist(), cal=TRAIN_SIZE, val=VAL_SIZE, seed=0)#, path=path)\n",
    "for key, ls in samples.items():\n",
    "    print(f'{key}:\\t{len(ls)} reservoirs')"
   ]
  },
  {
   "cell_type": "code",
   "execution_count": 19,
   "id": "bce65fa6-a8db-422e-9538-1e8f9db105df",
   "metadata": {
    "tags": []
   },
   "outputs": [
    {
     "name": "stdout",
     "output_type": "stream",
     "text": [
      "Saving file: all/volume/samples/sample_train_bc_hw.txt\n",
      "Saving file: all/volume/samples/sample_validation_bc_hw.txt\n",
      "Saving file: all/volume/samples/sample_test_bc_hw.txt\n"
     ]
    }
   ],
   "source": [
    "# export\n",
    "if path is not None:\n",
    "    for key, ls in samples.items():\n",
    "        file = f'sample_{key}.txt' if SUFFIX is None else f'sample_{key}_{SUFFIX}.txt'\n",
    "        with open(path / file, 'w') as f:\n",
    "            f.writelines(f\"{id}\\n\" for id in ls)\n",
    "            print('Saving file: {0}'.format(f.name))"
   ]
  },
  {
   "cell_type": "code",
   "execution_count": 20,
   "id": "580c3023-e720-4ab4-9760-27cfd951c875",
   "metadata": {
    "tags": []
   },
   "outputs": [
    {
     "data": {
      "image/png": "[encoded data removed]",
      "text/plain": [
       "<Figure size 640x480 with 1 Axes>"
      ]
     },
     "metadata": {},
     "output_type": "display_data"
    }
   ],
   "source": [
    "# plot reservoir locations\n",
    "fig, ax = plt.subplots(subplot_kw=dict(projection=ccrs.PlateCarree()))\n",
    "ax.add_feature(cfeature.NaturalEarthFeature('physical', 'land', '10m', edgecolor='face', facecolor='lightgray'),\n",
    "               alpha=.5,\n",
    "               zorder=0)\n",
    "for sample, ids in samples.items():\n",
    "    ax.scatter(attrs_sel.loc[ids, 'LON'], attrs_sel.loc[ids, 'LAT'], s=5, alpha=.5, label=sample)\n",
    "ax.set_aspect('equal')\n",
    "ax.set_extent([-10, 3.5, 36, 44])\n",
    "fig.legend(frameon=False, bbox_to_anchor=[1., .4, .1, .2])\n",
    "ax.axis('off');\n",
    "\n",
    "plt.savefig(path / f'map_reservoirs_{SUFFIX}.jpg', dpi=300, bbox_inches='tight');"
   ]
  },
  {
   "cell_type": "markdown",
   "id": "78a3023f-1633-4659-870b-e8fc98c8542d",
   "metadata": {},
   "source": [
    "### Periods "
   ]
  },
  {
   "cell_type": "code",
   "execution_count": 21,
   "id": "f6720d2b-e067-4dea-ad2f-2b0ca7439f57",
   "metadata": {
    "tags": []
   },
   "outputs": [],
   "source": [
    "# define train, validation and test periods\n",
    "periods = {}\n",
    "for ID, df in timeseries.items():\n",
    "    if ID in samples['train']:\n",
    "        period = 'train'\n",
    "        da = split_periods(df, cal=TRAIN_PERIOD, val=VAL_PERIOD)\n",
    "    elif ID in samples['validation']:\n",
    "        period = 'validation'\n",
    "        da = split_periods(df, cal=0, val=1)\n",
    "    elif ID in samples['test']:\n",
    "        period = 'test'\n",
    "        da = split_periods(df, cal=0, val=0)\n",
    "    if ID in correct_start:\n",
    "        da.loc[{'date': 'start', 'period': period}] = correct_start[ID]\n",
    "    periods[ID] = da\n",
    "periods_da = xr.concat([da.assign_coords(id=str(ID)) for ID, da in periods.items()], dim='id')\n",
    "del periods\n",
    "\n",
    "# make sure there's 1 year of data before the start date\n",
    "#cutoff_date = np.datetime64('1992-01-02', 'ns')\n",
    "#periods_da = periods_da.where(periods_da >= cutoff_date, other=cutoff_date)"
   ]
  },
  {
   "cell_type": "code",
   "execution_count": 22,
   "id": "daa6a1e7-3de2-4f9f-b612-da97bf73b014",
   "metadata": {
    "tags": []
   },
   "outputs": [],
   "source": [
    "## reorganize periods as a dictionary\n",
    "#periods_dct = {}\n",
    "#for period in periods_da.period.data:\n",
    "#    periods_dct[period] = {}\n",
    "#    for ID in samples[period]: #periods_da.id.data:\n",
    "#        ID = str(ID)\n",
    "#        periods_dct[period][ID] = {}\n",
    "#        for date in periods_da.date.data:\n",
    "#            periods_dct[period][ID][f'{date}_dates'] = [pd.Timestamp(periods_da.sel(period=period, id=ID, date=date).to_numpy().item())]\n",
    "periods_dct = {period: {} for period in periods_da.period.data}\n",
    "for ID in periods_da.id.data:\n",
    "    periods_ID = periods_da.sel(id=ID).to_pandas()\n",
    "    periods_ID.dropna(axis=1, how='all', inplace=True)\n",
    "    for period in periods_ID.columns:\n",
    "        periods_dct[period][ID] = {f'{date}_dates': [pd.Timestamp(periods_ID.loc[date, period])] for date in periods_ID.index}"
   ]
  },
  {
   "cell_type": "code",
   "execution_count": 23,
   "id": "3c4bec17-8e28-40bf-ae60-4a0a2b23c367",
   "metadata": {
    "tags": []
   },
   "outputs": [
    {
     "name": "stdout",
     "output_type": "stream",
     "text": [
      "Saving file: all/volume/samples/periods_train_bc_hw.pkl\n",
      "Saving file: all/volume/samples/periods_validation_bc_hw.pkl\n",
      "Saving file: all/volume/samples/periods_test_bc_hw.pkl\n"
     ]
    }
   ],
   "source": [
    "# export as a Pickle\n",
    "for period, dct in periods_dct.items():\n",
    "    if SUFFIX is None:\n",
    "        file = f'periods_{period}.pkl'\n",
    "    else:\n",
    "        file = f'periods_{period}_{SUFFIX}.pkl'\n",
    "    with open(path / file, 'wb') as f:\n",
    "        pickle.dump(dct, f)\n",
    "        print('Saving file: {0}'.format(f.name))"
   ]
  },
  {
   "cell_type": "markdown",
   "id": "f7d3d9e2-59ed-41b0-a9c2-a6d453ac438a",
   "metadata": {},
   "source": [
    "#### Plot"
   ]
  },
  {
   "cell_type": "code",
   "execution_count": 24,
   "id": "2a2a3d5c-cafb-4f00-a437-04cd915f5fe0",
   "metadata": {
    "tags": []
   },
   "outputs": [
    {
     "data": {
      "application/vnd.jupyter.widget-view+json": {
       "model_id": "8ffe509b150d44e7a20a30bf94ac0e31",
       "version_major": 2,
       "version_minor": 0
      },
      "text/plain": [
       "  0%|          | 0/121 [00:00<?, ?it/s]"
      ]
     },
     "metadata": {},
     "output_type": "display_data"
    }
   ],
   "source": [
    "# plot timeserie\n",
    "path_plots = path_ts / 'plots'\n",
    "path_plots.mkdir(parents=True, exist_ok=True)\n",
    "for ID, df in tqdm(timeseries.items()):\n",
    "    save = path_plots / f'{ID}.jpg'\n",
    "    if save.is_file():\n",
    "        continue\n",
    "        \n",
    "    # find start and end dates\n",
    "    for p in list(samples):\n",
    "        if ID in samples[p]:\n",
    "            period = p\n",
    "    start = periods_dct[period][str(ID)]['start_dates'][0]\n",
    "    end = periods_dct[period][str(ID)]['end_dates'][0]\n",
    "    \n",
    "    try:\n",
    "        title = '{0} - {1}\\nDOR = {2:.3f}  DOD = {3:.3f} m'.format(ID, *attrs.loc[ID, ['RES_NAME', 'DOR', 'DOD_M']])\n",
    "        if 'outflow' in df.columns:\n",
    "            outflow = 'outflow'\n",
    "        else:\n",
    "            outflow = None\n",
    "        plot_timeseries(df.loc[start:end], 'volume', 'inflow_efas5_bc', outflow, ylabel='fraction filled (-)', title=title,\n",
    "                        save=path_plots / f'{ID}.jpg')\n",
    "    except Exception as e:\n",
    "        print(f'ERROR: An error occurred while plotting timeseries for ID {ID}:\\n{e}')"
   ]
  }
 ],
 "metadata": {
  "kernelspec": {
   "display_name": "Python [neuralhydrology]",
   "language": "python",
   "name": "conda-env-neuralhydrology-py"
  },
  "language_info": {
   "codemirror_mode": {
    "name": "ipython",
    "version": 3
   },
   "file_extension": ".py",
   "mimetype": "text/x-python",
   "name": "python",
   "nbconvert_exporter": "python",
   "pygments_lexer": "ipython3",
   "version": "3.10.14"
  }
 },
 "nbformat": 4,
 "nbformat_minor": 5
}
