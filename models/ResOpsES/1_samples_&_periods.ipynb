{
 "cells": [
  {
   "cell_type": "markdown",
   "id": "ba84dc8b-0fa1-467d-815e-73525df4fd73",
   "metadata": {},
   "source": [
    "# Samples and periods\n",
    "***\n",
    "\n",
    "***Author:** Chus Casado Rodríguez*<br>\n",
    "***Date:** 16-05-2024*<br>\n",
    "\n",
    "**Introduction**\n",
    "\n",
    "In this notebook a sample of reservoirs and its corresponding time series are split into a training, validating and testing sample and periods. The size of the three samples is configured with the attributes `TRAIN_SIZE` and `VAL_SIZE` (the testing size, if any, is the remaining of 1 minus the train and validation size). At the moment, to include longer time series in the training/testing process, the complete time series of a specific reservoir is used for either training, validating or testing, depending on the sample to which that specific reservoir belongs to. That means that there is not temporal validation. To change this behaviour, modifications must be made on the use of the `split_periods` function.\n",
    "\n",
    "The notebook allows to select reservoir with a specific use and single-purpose using the configuration attributes `USE` and `SINGLE_USE`, respectively.\n",
    "\n",
    "The attribute `TARGET` is used to select the configuration files specific to the target variable."
   ]
  },
  {
   "cell_type": "code",
   "execution_count": 4,
   "id": "41164c19-f079-4dc9-965c-e21c98ecd7fb",
   "metadata": {
    "tags": []
   },
   "outputs": [],
   "source": [
    "import sys\n",
    "sys.path.append('..')\n",
    "from pathlib import Path\n",
    "import numpy as np\n",
    "import pandas as pd\n",
    "import xarray as xr\n",
    "from tqdm.auto import tqdm\n",
    "import pickle\n",
    "import matplotlib.pyplot as plt\n",
    "import cartopy.crs as ccrs\n",
    "import cartopy.feature as cfeature\n",
    "\n",
    "from neuralhydrology.utils.config import Config\n",
    "\n",
    "from plots import plot_timeseries\n",
    "from model_utils import split_samples, split_periods"
   ]
  },
  {
   "cell_type": "markdown",
   "id": "5e5a09d1-2a23-48b0-bf38-0bb5147a7798",
   "metadata": {
    "id": "hmggHyt3tbff"
   },
   "source": [
    "## Configuración"
   ]
  },
  {
   "cell_type": "code",
   "execution_count": 5,
   "id": "f43eda38-06fe-4e49-8a47-af290c655a02",
   "metadata": {
    "tags": []
   },
   "outputs": [],
   "source": [
    "TRAIN_SIZE = .7\n",
    "VAL_SIZE = .3\n",
    "USE = None #'supply'\n",
    "SINGLE_USE = False #True\n",
    "TARGET = 'outflow'"
   ]
  },
  {
   "cell_type": "code",
   "execution_count": 7,
   "id": "9ed2ab46-a3e0-45f8-977e-a5d69952309d",
   "metadata": {
    "colab": {
     "base_uri": "https://localhost:8080/"
    },
    "executionInfo": {
     "elapsed": 785,
     "status": "ok",
     "timestamp": 1694890697661,
     "user": {
      "displayName": "Jesús Casado Rodríguez",
      "userId": "18221488739992928084"
     },
     "user_tz": -120
    },
    "id": "sC9wXa4Itbff",
    "outputId": "67b7a2d5-d6f3-489d-f2f0-78e6cef220fe",
    "tags": []
   },
   "outputs": [
    {
     "name": "stdout",
     "output_type": "stream",
     "text": [
      "Reading configuration file:\n",
      "all/outflow/config_O_lstm256_fc00_do04.yml\n"
     ]
    }
   ],
   "source": [
    "# cargar archivo de configuración\n",
    "if USE:\n",
    "    exp_dir = Path(f'./{USE}/{TARGET}/')\n",
    "else:\n",
    "    exp_dir = Path(f'./all/{TARGET}/')   \n",
    "config_file = list(exp_dir.glob('config_*.yml'))[0]\n",
    "print(f'Reading configuration file:\\n{config_file}')\n",
    "cfg = Config(config_file)\n",
    "\n",
    "if len(set(TARGET.split('_')).difference(cfg.target_variables)) > 0:\n",
    "    print(f'ERROR. The targets do not match with the experiment folder:\\n{exp_dir}\\n{cfg.target_variables}')"
   ]
  },
  {
   "cell_type": "markdown",
   "id": "33dc52a9-a86c-4511-a902-ea7c95da210c",
   "metadata": {},
   "source": [
    "## Load data\n",
    "\n",
    "### Attributes"
   ]
  },
  {
   "cell_type": "code",
   "execution_count": 8,
   "id": "ef1a4d66-9e3f-4894-81fa-58813d227b92",
   "metadata": {
    "tags": []
   },
   "outputs": [
    {
     "name": "stdout",
     "output_type": "stream",
     "text": [
      "Reservoirs in the original attribute table:\t289\n",
      "Reservoirs in the original use table:\t\t290\n",
      "Selected reservoirs:\t\t\t\t289\n"
     ]
    }
   ],
   "source": [
    "# load attribute table\n",
    "attrs = pd.read_csv(cfg.data_dir / 'attributes' / 'attributes_combined.csv', index_col='reservoir_id')\n",
    "attrs = attrs[attrs.columns.intersection(cfg.static_attributes + ['RES_NAME'])]\n",
    "attrs.dropna(axis=0, how='any', inplace=True)\n",
    "print('Reservoirs in the original attribute table:\\t{0}'.format(attrs.shape[0]))\n",
    "\n",
    "# load reservoir use table\n",
    "use = pd.read_csv(cfg.data_dir / 'attributes' / 'attributes_use.csv', index_col='reservoir_id')\n",
    "use = use[use.columns.intersection(cfg.static_attributes)]\n",
    "use.dropna(axis=0, how='any', inplace=True)\n",
    "print('Reservoirs in the original use table:\\t\\t{0}'.format(use.shape[0]))\n",
    "\n",
    "if attrs.shape[0] != use.shape[0]:\n",
    "    ids = attrs.index.intersection(use.index)\n",
    "    attrs = attrs.loc[ids]\n",
    "    use = use.loc[ids]\n",
    "    \n",
    "# select single-use, hydropower reservoirs\n",
    "if SINGLE_USE:\n",
    "    mask1 = use.sum(axis=1) == 1\n",
    "else:\n",
    "    mask1 = pd.Series(True, index=use.index)\n",
    "if USE:\n",
    "    mask2 = use[USE] == 1\n",
    "else:\n",
    "    mask2 = pd.Series(True, index=use.index)\n",
    "attrs_sel = attrs.loc[mask1 & mask2]\n",
    "print('Selected reservoirs:\\t\\t\\t\\t{0}'.format( attrs_sel.shape[0]))"
   ]
  },
  {
   "cell_type": "markdown",
   "id": "3beab59d-f8ef-4cc8-90b0-47014a45e276",
   "metadata": {},
   "source": [
    "### Time series"
   ]
  },
  {
   "cell_type": "code",
   "execution_count": 9,
   "id": "07212fb9-b843-431d-a0de-e64e51468d31",
   "metadata": {
    "tags": []
   },
   "outputs": [
    {
     "data": {
      "application/vnd.jupyter.widget-view+json": {
       "model_id": "1734ab4447774128ad1f2248abfa0bf8",
       "version_major": 2,
       "version_minor": 0
      },
      "text/plain": [
       "  0%|          | 0/289 [00:00<?, ?it/s]"
      ]
     },
     "metadata": {},
     "output_type": "display_data"
    },
    {
     "name": "stdout",
     "output_type": "stream",
     "text": [
      "1062: \"['outflow'] not in index\"\n",
      "1066: \"['outflow'] not in index\"\n",
      "1075: \"['outflow'] not in index\"\n",
      "1078: \"['outflow'] not in index\"\n",
      "1146: \"['outflow'] not in index\"\n",
      "1255: \"['outflow'] not in index\"\n",
      "1272: \"['outflow'] not in index\"\n",
      "1450: \"['outflow'] not in index\"\n",
      "165: \"['outflow'] not in index\"\n",
      "1964: \"['outflow'] not in index\"\n",
      "2044: \"['outflow'] not in index\"\n",
      "2109: \"['outflow'] not in index\"\n",
      "2180: \"['outflow'] not in index\"\n",
      "234: \"['outflow'] not in index\"\n",
      "2511: \"['outflow'] not in index\"\n",
      "2539: \"['outflow'] not in index\"\n",
      "257: \"['outflow'] not in index\"\n",
      "328: \"['outflow'] not in index\"\n",
      "342: \"['outflow'] not in index\"\n",
      "3499: \"['outflow'] not in index\"\n",
      "351: \"['outflow'] not in index\"\n",
      "369: \"['outflow'] not in index\"\n",
      "556: \"['outflow'] not in index\"\n",
      "616: \"['outflow'] not in index\"\n",
      "659: \"['outflow'] not in index\"\n",
      "725: \"['outflow'] not in index\"\n",
      "793: \"['outflow'] not in index\"\n",
      "971: \"['outflow'] not in index\"\n",
      "Reservoirs with all dynamic variables:\t\t261\n"
     ]
    }
   ],
   "source": [
    "# variables required by the model\n",
    "ts_vars = cfg.target_variables + cfg.dynamic_inputs\n",
    "\n",
    "# load timeseries\n",
    "path_ts = cfg.data_dir / 'time_series'\n",
    "timeseries = {}\n",
    "for ID in tqdm(attrs_sel.index):\n",
    "    file = path_ts / f'{ID}.nc'\n",
    "    if file.is_file():\n",
    "        try:\n",
    "            timeseries[ID] = xr.open_dataset(file).to_pandas()[ts_vars]\n",
    "        except Exception as e:\n",
    "            print(f'{ID}: {e}')\n",
    "            attrs_sel.drop(ID, axis=0, inplace=True)\n",
    "    else:\n",
    "        print(f'{file} was not found')\n",
    "        \n",
    "print('Reservoirs with all dynamic variables:\\t\\t{0}'.format(len(timeseries)))"
   ]
  },
  {
   "cell_type": "markdown",
   "id": "b102dd82-6c5b-41f9-b554-03a83e3d2935",
   "metadata": {},
   "source": [
    "## Split samples and periods\n",
    "\n",
    "### Samples"
   ]
  },
  {
   "cell_type": "code",
   "execution_count": 10,
   "id": "5f3a0eca-76fc-418b-a947-316737400719",
   "metadata": {
    "tags": []
   },
   "outputs": [],
   "source": [
    "# divide sample in calibration, validation and test subsets\n",
    "path = exp_dir / cfg.train_basin_file.parent\n",
    "path.mkdir(exist_ok=True)\n",
    "samples = split_samples(attrs_sel.index.tolist(), cal=TRAIN_SIZE, val=VAL_SIZE, seed=0)#, path=path)\n",
    "# export\n",
    "if path is not None:\n",
    "    for key, ls in samples.items():\n",
    "        with open(path / f'sample_{key}.txt', 'w') as file:\n",
    "            file.writelines(f\"{id}\\n\" for id in ls)"
   ]
  },
  {
   "cell_type": "code",
   "execution_count": 11,
   "id": "580c3023-e720-4ab4-9760-27cfd951c875",
   "metadata": {
    "tags": []
   },
   "outputs": [
    {
     "data": {
      "image/png": "[encoded data removed]",
      "text/plain": [
       "<Figure size 640x480 with 1 Axes>"
      ]
     },
     "metadata": {},
     "output_type": "display_data"
    }
   ],
   "source": [
    "# plot reservoir locations\n",
    "fig, ax = plt.subplots(subplot_kw=dict(projection=ccrs.PlateCarree()))\n",
    "ax.add_feature(cfeature.NaturalEarthFeature('physical', 'land', '10m', edgecolor='face', facecolor='lightgray'),\n",
    "               alpha=.5,\n",
    "               zorder=0)\n",
    "for sample, ids in samples.items():\n",
    "    ax.scatter(attrs_sel.loc[ids, 'LON'], attrs_sel.loc[ids, 'LAT'], s=5, alpha=.5, label=sample)\n",
    "ax.set_aspect('equal')\n",
    "ax.set_extent([-10, 3.5, 36, 44])\n",
    "fig.legend(frameon=False, bbox_to_anchor=[1., .4, .1, .2])\n",
    "ax.axis('off');\n",
    "\n",
    "plt.savefig(path / 'map_reservoirs.jpg', dpi=300, bbox_inches='tight');"
   ]
  },
  {
   "cell_type": "markdown",
   "id": "78a3023f-1633-4659-870b-e8fc98c8542d",
   "metadata": {},
   "source": [
    "### Periods "
   ]
  },
  {
   "cell_type": "code",
   "execution_count": 12,
   "id": "349cd597-fe43-4420-9b08-be53517d8e39",
   "metadata": {
    "tags": []
   },
   "outputs": [],
   "source": [
    "# hard-code start of time series for reservoirs with errors\n",
    "correct_start = {84: np.datetime64('1995-10-01', 'ns'),\n",
    "                 2111: np.datetime64('1995-10-01', 'ns'),\n",
    "                 2431: np.datetime64('1995-10-01', 'ns'),\n",
    "                 2483: np.datetime64('1995-10-01', 'ns'),\n",
    "                 593: np.datetime64('1995-10-01', 'ns')}\n",
    "\n",
    "# define train, validation and test periods\n",
    "periods = {}\n",
    "for ID, df in timeseries.items():\n",
    "    if ID in samples['train']:\n",
    "        period = 'train'\n",
    "        da = split_periods(df, cal=1, val=0)\n",
    "    elif ID in samples['validation']:\n",
    "        period = 'validation'\n",
    "        da = split_periods(df, cal=0, val=1)\n",
    "    if ID in correct_start:\n",
    "        da.loc[{'date': 'start', 'period': period}] = correct_start[ID]\n",
    "    periods[ID] = da\n",
    "periods_da = xr.concat([da.assign_coords(id=str(ID)) for ID, da in periods.items()], dim='id')\n",
    "\n",
    "# make sure there's 1 year of data before the start date\n",
    "cutoff_date = np.datetime64('1992-01-02', 'ns')\n",
    "periods_da = periods_da.where(periods_da >= cutoff_date, other=cutoff_date)\n",
    "del periods\n",
    "\n",
    "# reorganize periods as a dictionary\n",
    "periods_dct = {}\n",
    "for period in periods_da.period.data:\n",
    "    periods_dct[period] = {}\n",
    "    for ID in periods_da.id.data:\n",
    "        periods_dct[period][ID] = {}\n",
    "        for date in periods_da.date.data:\n",
    "            periods_dct[period][ID][f'{date}_dates'] = [pd.Timestamp(periods_da.sel(period=period, id=ID, date=date).to_numpy().item())]\n",
    "\n",
    "# export as a Pickle\n",
    "for period, dct in periods_dct.items():\n",
    "    with open(path / f'periods_{period}.pkl', 'wb') as file:\n",
    "        pickle.dump(dct, file)"
   ]
  },
  {
   "cell_type": "markdown",
   "id": "f7d3d9e2-59ed-41b0-a9c2-a6d453ac438a",
   "metadata": {},
   "source": [
    "### Plot"
   ]
  },
  {
   "cell_type": "code",
   "execution_count": 16,
   "id": "2a2a3d5c-cafb-4f00-a437-04cd915f5fe0",
   "metadata": {
    "tags": []
   },
   "outputs": [
    {
     "data": {
      "application/vnd.jupyter.widget-view+json": {
       "model_id": "90a2cc60d6934de79d74e154cc47b775",
       "version_major": 2,
       "version_minor": 0
      },
      "text/plain": [
       "  0%|          | 0/261 [00:00<?, ?it/s]"
      ]
     },
     "metadata": {},
     "output_type": "display_data"
    }
   ],
   "source": [
    "# plot timeserie\n",
    "path_plots = path_ts / 'plots'\n",
    "path_plots.mkdir(parents=True, exist_ok=True)\n",
    "for ID, df in tqdm(timeseries.items()):\n",
    "    save = path_plots / f'{ID}.jpg'\n",
    "    if save.is_file():\n",
    "        continue\n",
    "        \n",
    "    # find start and end dates\n",
    "    for p in list(samples):\n",
    "        if ID in samples[p]:\n",
    "            period = p\n",
    "    start = periods_dct[period][str(ID)]['start_dates'][0]\n",
    "    end = periods_dct[period][str(ID)]['end_dates'][0]\n",
    "    \n",
    "    try:\n",
    "        title = '{0} - {1}\\nDOR = {2:.3f}  DOD = {3:.3f} m'.format(ID, *attrs.loc[ID, ['RES_NAME', 'DOR', 'DOD_M']])\n",
    "        if 'outflow' in df.columns:\n",
    "            outflow = 'outflow'\n",
    "        else:\n",
    "            outflow = None\n",
    "        plot_timeseries(df.loc[start:end], 'volume', 'inflow_efas5', outflow, ylabel='fraction filled (-)', title=title,\n",
    "                        save=path_plots / f'{ID}.jpg')\n",
    "    except Exception as e:\n",
    "        print(f'ERROR: An error occurred while plotting timeseries for ID {ID}:\\n{e}')"
   ]
  }
 ],
 "metadata": {
  "kernelspec": {
   "display_name": "Python [neuralhydrology]",
   "language": "python",
   "name": "conda-env-neuralhydrology-py"
  },
  "language_info": {
   "codemirror_mode": {
    "name": "ipython",
    "version": 3
   },
   "file_extension": ".py",
   "mimetype": "text/x-python",
   "name": "python",
   "nbconvert_exporter": "python",
   "pygments_lexer": "ipython3",
   "version": "3.10.14"
  }
 },
 "nbformat": 4,
 "nbformat_minor": 5
}
