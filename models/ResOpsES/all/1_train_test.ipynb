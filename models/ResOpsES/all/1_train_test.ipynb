{
 "cells": [
  {
   "cell_type": "markdown",
   "metadata": {
    "id": "a5tGM7HbkLVV"
   },
   "source": [
    "# LSTM ResOps-ES: training & testing\n",
    "***\n",
    "\n",
    "***Author:** Chus Casado Rodríguez*<br>\n",
    "***Date:** 16-04-2024*<br>\n",
    "\n",
    "**Introduction:**<br>\n",
    "This _notebook_ trains and tests an LSTM model to reproduce reservoir storage.\n",
    "\n",
    "**Por hacer**:"
   ]
  },
  {
   "cell_type": "code",
   "execution_count": 1,
   "metadata": {
    "executionInfo": {
     "elapsed": 14362,
     "status": "ok",
     "timestamp": 1694889013330,
     "user": {
      "displayName": "Jesús Casado Rodríguez",
      "userId": "18221488739992928084"
     },
     "user_tz": -120
    },
    "id": "a_W-qdQ9kLVc",
    "tags": []
   },
   "outputs": [
    {
     "ename": "ModuleNotFoundError",
     "evalue": "No module named 'model_utils'",
     "output_type": "error",
     "traceback": [
      "\u001b[0;31m---------------------------------------------------------------------------\u001b[0m",
      "\u001b[0;31mModuleNotFoundError\u001b[0m                       Traceback (most recent call last)",
      "Cell \u001b[0;32mIn[1], line 13\u001b[0m\n\u001b[1;32m     10\u001b[0m \u001b[38;5;28;01mfrom\u001b[39;00m \u001b[38;5;21;01mneuralhydrology\u001b[39;00m\u001b[38;5;21;01m.\u001b[39;00m\u001b[38;5;21;01mevaluation\u001b[39;00m \u001b[38;5;28;01mimport\u001b[39;00m metrics\n\u001b[1;32m     11\u001b[0m \u001b[38;5;28;01mfrom\u001b[39;00m \u001b[38;5;21;01mneuralhydrology\u001b[39;00m\u001b[38;5;21;01m.\u001b[39;00m\u001b[38;5;21;01mnh_run\u001b[39;00m \u001b[38;5;28;01mimport\u001b[39;00m start_run, eval_run\n\u001b[0;32m---> 13\u001b[0m \u001b[38;5;28;01mfrom\u001b[39;00m \u001b[38;5;21;01mmodel_utils\u001b[39;00m \u001b[38;5;28;01mimport\u001b[39;00m \u001b[38;5;241m*\u001b[39m\n",
      "\u001b[0;31mModuleNotFoundError\u001b[0m: No module named 'model_utils'"
     ]
    }
   ],
   "source": [
    "import sys\n",
    "sys.path.append('../')\n",
    "# import pickle\n",
    "import pandas as pd\n",
    "from pathlib import Path\n",
    "import torch\n",
    "from tqdm.notebook import tqdm\n",
    "\n",
    "from neuralhydrology.utils.config import Config\n",
    "from neuralhydrology.evaluation import metrics\n",
    "from neuralhydrology.nh_run import start_run, eval_run\n",
    "\n",
    "from model_utils import *"
   ]
  },
  {
   "cell_type": "code",
   "execution_count": 2,
   "metadata": {
    "colab": {
     "base_uri": "https://localhost:8080/"
    },
    "executionInfo": {
     "elapsed": 28595,
     "status": "ok",
     "timestamp": 1694889041910,
     "user": {
      "displayName": "Jesús Casado Rodríguez",
      "userId": "18221488739992928084"
     },
     "user_tz": -120
    },
    "id": "2hhaQf-tk0bL",
    "outputId": "46b78685-59b2-4794-e227-f046743564a0"
   },
   "outputs": [],
   "source": [
    "# from google.colab import drive\n",
    "# drive.mount('/content/drive')"
   ]
  },
  {
   "cell_type": "code",
   "execution_count": 3,
   "metadata": {
    "colab": {
     "base_uri": "https://localhost:8080/"
    },
    "executionInfo": {
     "elapsed": 3092,
     "status": "ok",
     "timestamp": 1694889044991,
     "user": {
      "displayName": "Jesús Casado Rodríguez",
      "userId": "18221488739992928084"
     },
     "user_tz": -120
    },
    "id": "IIZeExFFtbfe",
    "outputId": "d9b9eed6-19ee-4c8f-c6d0-138fdf64eb4f",
    "tags": []
   },
   "outputs": [],
   "source": [
    "# %cd /content/drive/MyDrive/TFM/notebook/models/\n",
    "# from model_utils import *\n",
    "# %cd ./CAMELS-ES/"
   ]
  },
  {
   "cell_type": "code",
   "execution_count": 30,
   "metadata": {
    "tags": []
   },
   "outputs": [],
   "source": [
    "import os"
   ]
  },
  {
   "cell_type": "code",
   "execution_count": 33,
   "metadata": {
    "tags": []
   },
   "outputs": [
    {
     "data": {
      "text/plain": [
       "'/home/casadje/neuralhydrology/models/ResOpsES'"
      ]
     },
     "execution_count": 33,
     "metadata": {},
     "output_type": "execute_result"
    }
   ],
   "source": [
    "os.getcwd()"
   ]
  },
  {
   "cell_type": "markdown",
   "metadata": {
    "id": "hmggHyt3tbff"
   },
   "source": [
    "### Configuración"
   ]
  },
  {
   "cell_type": "code",
   "execution_count": 4,
   "metadata": {
    "colab": {
     "base_uri": "https://localhost:8080/"
    },
    "executionInfo": {
     "elapsed": 785,
     "status": "ok",
     "timestamp": 1694890697661,
     "user": {
      "displayName": "Jesús Casado Rodríguez",
      "userId": "18221488739992928084"
     },
     "user_tz": -120
    },
    "id": "sC9wXa4Itbff",
    "outputId": "67b7a2d5-d6f3-489d-f2f0-78e6cef220fe",
    "tags": []
   },
   "outputs": [
    {
     "name": "stdout",
     "output_type": "stream",
     "text": [
      "reservoir_lstm\n",
      "epochs:\t\t10\n",
      "hidden size:\t64\n",
      "batch size:\t128\n",
      "dropout:\t0.3\n",
      "clip gradients:\t1\n"
     ]
    }
   ],
   "source": [
    "# cargar archivo de configuración\n",
    "config_file = Path('config.yml')\n",
    "cfg = Config(config_file)\n",
    "\n",
    "target = cfg.target_variables[0]\n",
    "\n",
    "print(cfg.experiment_name)\n",
    "print('epochs:', cfg.epochs, sep='\\t\\t')\n",
    "print('hidden size:', cfg.hidden_size, sep='\\t')\n",
    "print('batch size:', cfg.batch_size, sep='\\t')\n",
    "print('dropout:', cfg.output_dropout, sep='\\t')\n",
    "print('clip gradients:', cfg.clip_gradient_norm, sep='\\t')"
   ]
  },
  {
   "cell_type": "code",
   "execution_count": 5,
   "metadata": {
    "tags": []
   },
   "outputs": [],
   "source": [
    "# simulación del entrenamiento y evaluación de todas las épocas?\n",
    "run_all = True"
   ]
  },
  {
   "cell_type": "markdown",
   "metadata": {
    "id": "I4hagTCytbfh"
   },
   "source": [
    "### Entrenamiento"
   ]
  },
  {
   "cell_type": "code",
   "execution_count": 6,
   "metadata": {
    "colab": {
     "base_uri": "https://localhost:8080/"
    },
    "executionInfo": {
     "elapsed": 809902,
     "status": "ok",
     "timestamp": 1694891514032,
     "user": {
      "displayName": "Jesús Casado Rodríguez",
      "userId": "18221488739992928084"
     },
     "user_tz": -120
    },
    "id": "M-KLDY-gkLVe",
    "outputId": "e9376484-4a08-474f-8fd8-5f44a8e52182",
    "scrolled": true
   },
   "outputs": [
    {
     "name": "stdout",
     "output_type": "stream",
     "text": [
      "CUDA available\n",
      "2024-04-17 14:37:03,171: Logging to /home/casadje/neuralhydrology/models/ResOpsES/runs/reservoir_lstm_1704_143703/output.log initialized.\n",
      "2024-04-17 14:37:03,172: ### Folder structure created at /home/casadje/neuralhydrology/models/ResOpsES/runs/reservoir_lstm_1704_143703\n",
      "2024-04-17 14:37:03,173: ### Run configurations for reservoir_lstm\n",
      "2024-04-17 14:37:03,174: experiment_name: reservoir_lstm\n",
      "2024-04-17 14:37:03,175: run_dir: /home/casadje/neuralhydrology/models/ResOpsES/runs/reservoir_lstm_1704_143703\n",
      "2024-04-17 14:37:03,176: train_basin_file: data/sample_train.txt\n",
      "2024-04-17 14:37:03,176: validation_basin_file: data/sample_validation.txt\n",
      "2024-04-17 14:37:03,177: test_basin_file: data/sample_test.txt\n",
      "2024-04-17 14:37:03,178: per_basin_train_periods_file: data/periods_train.pkl\n",
      "2024-04-17 14:37:03,179: per_basin_validation_periods_file: data/periods_validation.pkl\n",
      "2024-04-17 14:37:03,180: per_basin_test_periods_file: data/periods_test.pkl\n",
      "2024-04-17 14:37:03,180: seed: 0\n",
      "2024-04-17 14:37:03,181: device: cuda:0\n",
      "2024-04-17 14:37:03,182: validate_every: 1\n",
      "2024-04-17 14:37:03,183: validate_n_random_basins: 100\n",
      "2024-04-17 14:37:03,184: cache_validation_data: True\n",
      "2024-04-17 14:37:03,184: metrics: ['KGE']\n",
      "2024-04-17 14:37:03,185: model: cudalstm\n",
      "2024-04-17 14:37:03,186: checkpoint_path: None\n",
      "2024-04-17 14:37:03,187: head: regression\n",
      "2024-04-17 14:37:03,187: output_activation: linear\n",
      "2024-04-17 14:37:03,188: statics_embedding: {'type': 'fc', 'hiddens': [32], 'activation': 'tanh', 'dropout': 0.3}\n",
      "2024-04-17 14:37:03,189: dynamics_embedding: {'type': 'fc', 'hiddens': [32], 'activation': 'tanh', 'dropout': 0.3}\n",
      "2024-04-17 14:37:03,190: hidden_size: 64\n",
      "2024-04-17 14:37:03,191: initial_forget_bias: 3\n",
      "2024-04-17 14:37:03,191: output_dropout: 0.3\n",
      "2024-04-17 14:37:03,192: optimizer: Adam\n",
      "2024-04-17 14:37:03,193: loss: NSE\n",
      "2024-04-17 14:37:03,194: regularization: None\n",
      "2024-04-17 14:37:03,194: learning_rate: {0: 0.001, 10: 0.0005, 20: 0.0001}\n",
      "2024-04-17 14:37:03,195: batch_size: 128\n",
      "2024-04-17 14:37:03,196: epochs: 10\n",
      "2024-04-17 14:37:03,197: target_noise_std: 0\n",
      "2024-04-17 14:37:03,198: clip_gradient_norm: 1\n",
      "2024-04-17 14:37:03,198: predict_last_n: 1\n",
      "2024-04-17 14:37:03,199: seq_length: 365\n",
      "2024-04-17 14:37:03,200: num_workers: 32\n",
      "2024-04-17 14:37:03,201: log_interval: 10\n",
      "2024-04-17 14:37:03,202: log_tensorboard: True\n",
      "2024-04-17 14:37:03,202: log_n_figures: 2\n",
      "2024-04-17 14:37:03,203: save_weights_every: 1\n",
      "2024-04-17 14:37:03,204: save_validation_results: True\n",
      "2024-04-17 14:37:03,205: dataset: generic\n",
      "2024-04-17 14:37:03,205: data_dir: data\n",
      "2024-04-17 14:37:03,206: save_train_data: False\n",
      "2024-04-17 14:37:03,207: train_data_file: None\n",
      "2024-04-17 14:37:03,208: dynamic_inputs: ['inflow_efas5', 'evaporation_emo1']\n",
      "2024-04-17 14:37:03,209: target_variables: ['volume']\n",
      "2024-04-17 14:37:03,209: clip_targets_to_zero: ['volume']\n",
      "2024-04-17 14:37:03,210: static_attributes: ['AREA_SKM', 'CAP_MCM', 'CATCH_SKM', 'DAM_HGT_M', 'ELEV_MASL', 'LAT', 'LON']\n",
      "2024-04-17 14:37:03,211: additional_feature_files: None\n",
      "2024-04-17 14:37:03,212: evolving_attributes: None\n",
      "2024-04-17 14:37:03,212: use_basin_id_encoding: False\n",
      "2024-04-17 14:37:03,213: number_of_basins: 174\n",
      "2024-04-17 14:37:03,214: train_dir: /home/casadje/neuralhydrology/models/ResOpsES/runs/reservoir_lstm_1704_143703/train_data\n",
      "2024-04-17 14:37:03,215: img_log_dir: /home/casadje/neuralhydrology/models/ResOpsES/runs/reservoir_lstm_1704_143703/img_log\n",
      "2024-04-17 14:37:03,270: ### Device cuda:0 will be used for training\n",
      "2024-04-17 14:37:03,352: Loading basin data into xarray data set.\n",
      "100% 174/174 [00:17<00:00,  9.96it/s]\n",
      "2024-04-17 14:37:21,394: Calculating target variable stds per basin\n",
      "100% 174/174 [00:00<00:00, 1852.47it/s]\n",
      "2024-04-17 14:37:21,559: Create lookup table and convert to pytorch tensor\n",
      "100% 174/174 [00:10<00:00, 16.28it/s]\n",
      "# Epoch 1: 100% 8188/8188 [01:58<00:00, 68.87it/s, Loss: 0.6014] \n",
      "2024-04-17 14:39:38,022: Epoch 1 average loss: avg_loss: 5.02056, avg_total_loss: 5.02056\n",
      "# Validation: 100% 58/58 [00:14<00:00,  4.01it/s]\n",
      "2024-04-17 14:39:53,398: Stored metrics at /home/casadje/neuralhydrology/models/ResOpsES/runs/reservoir_lstm_1704_143703/validation/model_epoch001/validation_metrics.csv\n",
      "2024-04-17 14:39:53,439: Stored results at /home/casadje/neuralhydrology/models/ResOpsES/runs/reservoir_lstm_1704_143703/validation/model_epoch001/validation_results.p\n",
      "2024-04-17 14:39:53,442: Epoch 1 average validation loss: 17.70906 -- Median validation metrics: avg_loss: 17.70906, KGE: -0.00117\n",
      "# Epoch 2: 100% 8188/8188 [01:59<00:00, 68.29it/s, Loss: 4.3306] \n",
      "2024-04-17 14:41:53,344: Epoch 2 average loss: avg_loss: 3.47091, avg_total_loss: 3.47091\n",
      "# Validation: 100% 58/58 [00:04<00:00, 11.94it/s]\n",
      "2024-04-17 14:41:58,868: Stored metrics at /home/casadje/neuralhydrology/models/ResOpsES/runs/reservoir_lstm_1704_143703/validation/model_epoch002/validation_metrics.csv\n",
      "2024-04-17 14:41:58,904: Stored results at /home/casadje/neuralhydrology/models/ResOpsES/runs/reservoir_lstm_1704_143703/validation/model_epoch002/validation_results.p\n",
      "2024-04-17 14:41:58,906: Epoch 2 average validation loss: 19.99112 -- Median validation metrics: avg_loss: 19.99112, KGE: 0.00023\n",
      "# Epoch 3: 100% 8188/8188 [02:00<00:00, 68.15it/s, Loss: 0.1437] \n",
      "2024-04-17 14:43:59,066: Epoch 3 average loss: avg_loss: 3.13230, avg_total_loss: 3.13230\n",
      "# Validation: 100% 58/58 [00:04<00:00, 11.89it/s]\n",
      "2024-04-17 14:44:04,628: Stored metrics at /home/casadje/neuralhydrology/models/ResOpsES/runs/reservoir_lstm_1704_143703/validation/model_epoch003/validation_metrics.csv\n",
      "2024-04-17 14:44:04,683: Stored results at /home/casadje/neuralhydrology/models/ResOpsES/runs/reservoir_lstm_1704_143703/validation/model_epoch003/validation_results.p\n",
      "2024-04-17 14:44:04,686: Epoch 3 average validation loss: 19.15688 -- Median validation metrics: avg_loss: 19.15688, KGE: -0.01256\n",
      "# Epoch 4: 100% 8188/8188 [01:59<00:00, 68.69it/s, Loss: 6.8704] \n",
      "2024-04-17 14:46:03,899: Epoch 4 average loss: avg_loss: 2.94600, avg_total_loss: 2.94600\n",
      "# Validation: 100% 58/58 [00:04<00:00, 12.06it/s]\n",
      "2024-04-17 14:46:09,423: Stored metrics at /home/casadje/neuralhydrology/models/ResOpsES/runs/reservoir_lstm_1704_143703/validation/model_epoch004/validation_metrics.csv\n",
      "2024-04-17 14:46:09,461: Stored results at /home/casadje/neuralhydrology/models/ResOpsES/runs/reservoir_lstm_1704_143703/validation/model_epoch004/validation_results.p\n",
      "2024-04-17 14:46:09,463: Epoch 4 average validation loss: 19.47515 -- Median validation metrics: avg_loss: 19.47515, KGE: 0.06818\n",
      "# Epoch 5: 100% 8188/8188 [01:58<00:00, 69.37it/s, Loss: 1.7318] \n",
      "2024-04-17 14:48:07,504: Epoch 5 average loss: avg_loss: 2.82650, avg_total_loss: 2.82650\n",
      "# Validation: 100% 58/58 [00:04<00:00, 11.88it/s]\n",
      "2024-04-17 14:48:13,120: Stored metrics at /home/casadje/neuralhydrology/models/ResOpsES/runs/reservoir_lstm_1704_143703/validation/model_epoch005/validation_metrics.csv\n",
      "2024-04-17 14:48:13,173: Stored results at /home/casadje/neuralhydrology/models/ResOpsES/runs/reservoir_lstm_1704_143703/validation/model_epoch005/validation_results.p\n",
      "2024-04-17 14:48:13,176: Epoch 5 average validation loss: 19.45992 -- Median validation metrics: avg_loss: 19.45992, KGE: -0.00084\n",
      "# Epoch 6: 100% 8188/8188 [02:01<00:00, 67.22it/s, Loss: 0.9726]\n",
      "2024-04-17 14:50:14,993: Epoch 6 average loss: avg_loss: 2.73321, avg_total_loss: 2.73321\n",
      "# Validation: 100% 58/58 [00:05<00:00, 11.46it/s]\n",
      "2024-04-17 14:50:20,837: Stored metrics at /home/casadje/neuralhydrology/models/ResOpsES/runs/reservoir_lstm_1704_143703/validation/model_epoch006/validation_metrics.csv\n",
      "2024-04-17 14:50:20,867: Stored results at /home/casadje/neuralhydrology/models/ResOpsES/runs/reservoir_lstm_1704_143703/validation/model_epoch006/validation_results.p\n",
      "2024-04-17 14:50:20,869: Epoch 6 average validation loss: 19.04419 -- Median validation metrics: avg_loss: 19.04419, KGE: 0.01220\n",
      "# Epoch 7: 100% 8188/8188 [02:01<00:00, 67.40it/s, Loss: 5.1503]\n",
      "2024-04-17 14:52:22,356: Epoch 7 average loss: avg_loss: 2.66158, avg_total_loss: 2.66158\n",
      "# Validation: 100% 58/58 [00:04<00:00, 12.12it/s]\n",
      "2024-04-17 14:52:27,872: Stored metrics at /home/casadje/neuralhydrology/models/ResOpsES/runs/reservoir_lstm_1704_143703/validation/model_epoch007/validation_metrics.csv\n",
      "2024-04-17 14:52:27,899: Stored results at /home/casadje/neuralhydrology/models/ResOpsES/runs/reservoir_lstm_1704_143703/validation/model_epoch007/validation_results.p\n",
      "2024-04-17 14:52:27,902: Epoch 7 average validation loss: 17.94605 -- Median validation metrics: avg_loss: 17.94605, KGE: 0.02881\n",
      "# Epoch 8: 100% 8188/8188 [02:00<00:00, 68.21it/s, Loss: 4.3466]\n",
      "2024-04-17 14:54:27,957: Epoch 8 average loss: avg_loss: 2.59740, avg_total_loss: 2.59740\n",
      "# Validation: 100% 58/58 [00:04<00:00, 11.90it/s]\n",
      "2024-04-17 14:54:33,566: Stored metrics at /home/casadje/neuralhydrology/models/ResOpsES/runs/reservoir_lstm_1704_143703/validation/model_epoch008/validation_metrics.csv\n",
      "2024-04-17 14:54:33,596: Stored results at /home/casadje/neuralhydrology/models/ResOpsES/runs/reservoir_lstm_1704_143703/validation/model_epoch008/validation_results.p\n",
      "2024-04-17 14:54:33,599: Epoch 8 average validation loss: 19.19112 -- Median validation metrics: avg_loss: 19.19112, KGE: 0.04158\n",
      "# Epoch 9: 100% 8188/8188 [01:59<00:00, 68.39it/s, Loss: 1.5979] \n",
      "2024-04-17 14:56:33,325: Epoch 9 average loss: avg_loss: 2.55488, avg_total_loss: 2.55488\n",
      "# Validation: 100% 58/58 [00:05<00:00, 11.36it/s]\n",
      "2024-04-17 14:56:39,751: Stored metrics at /home/casadje/neuralhydrology/models/ResOpsES/runs/reservoir_lstm_1704_143703/validation/model_epoch009/validation_metrics.csv\n",
      "2024-04-17 14:56:39,778: Stored results at /home/casadje/neuralhydrology/models/ResOpsES/runs/reservoir_lstm_1704_143703/validation/model_epoch009/validation_results.p\n",
      "2024-04-17 14:56:39,780: Epoch 9 average validation loss: 19.87182 -- Median validation metrics: avg_loss: 19.87182, KGE: -0.03395\n",
      "2024-04-17 14:56:39,781: Setting learning rate to 0.0005\n",
      "# Epoch 10: 100% 8188/8188 [01:59<00:00, 68.48it/s, Loss: 0.4637]\n",
      "2024-04-17 14:58:39,360: Epoch 10 average loss: avg_loss: 2.28201, avg_total_loss: 2.28201\n",
      "# Validation: 100% 58/58 [00:05<00:00, 11.35it/s]\n",
      "2024-04-17 14:58:45,159: Stored metrics at /home/casadje/neuralhydrology/models/ResOpsES/runs/reservoir_lstm_1704_143703/validation/model_epoch010/validation_metrics.csv\n",
      "2024-04-17 14:58:45,187: Stored results at /home/casadje/neuralhydrology/models/ResOpsES/runs/reservoir_lstm_1704_143703/validation/model_epoch010/validation_results.p\n",
      "2024-04-17 14:58:45,190: Epoch 10 average validation loss: 19.45525 -- Median validation metrics: avg_loss: 19.45525, KGE: -0.04301\n"
     ]
    }
   ],
   "source": [
    "if torch.cuda.is_available():\n",
    "    print('CUDA available')\n",
    "    start_run(config_file=config_file)\n",
    "else:\n",
    "    print('Running training on the CPU')\n",
    "    start_run(config_file=config_file, gpu=-1)"
   ]
  },
  {
   "cell_type": "markdown",
   "metadata": {
    "id": "iObWtn15kLVf"
   },
   "source": [
    "### Simulación"
   ]
  },
  {
   "cell_type": "code",
   "execution_count": 25,
   "metadata": {},
   "outputs": [
    {
     "name": "stdout",
     "output_type": "stream",
     "text": [
      "runs/reservoir_lstm_1704_143703\n"
     ]
    }
   ],
   "source": [
    "# find the directory of the last run\n",
    "root_run_dir = cfg.run_dir if cfg.run_dir else Path('./runs/')\n",
    "run_dir = max([x for x in root_run_dir.iterdir() if x.is_dir() & x.stem.startswith(cfg.experiment_name)])\n",
    "\n",
    "print(run_dir)"
   ]
  },
  {
   "cell_type": "code",
   "execution_count": 26,
   "metadata": {},
   "outputs": [],
   "source": [
    "# # extraer el rendimiento de cada época y muestra\n",
    "# metrics = pd.DataFrame(columns=range(1, cfg.epochs + 1))\n",
    "# for epoch in tqdm(metrics.columns):\n",
    "#     try:\n",
    "#         _, metrics[epoch] = get_results(run_dir, 'validation', epoch=epoch)\n",
    "#     except:\n",
    "#         continue\n",
    "\n",
    "# best_epoch = metrics.median().idxmax()\n",
    "# print('mejor época: {0}\\t\\tKGE = {1:.3f}'.format(best_epoch, metrics.median().max()))"
   ]
  },
  {
   "cell_type": "code",
   "execution_count": 27,
   "metadata": {
    "colab": {
     "base_uri": "https://localhost:8080/"
    },
    "executionInfo": {
     "elapsed": 915209,
     "status": "ok",
     "timestamp": 1694892429233,
     "user": {
      "displayName": "Jesús Casado Rodríguez",
      "userId": "18221488739992928084"
     },
     "user_tz": -120
    },
    "id": "WIDqiVX-2pVa",
    "outputId": "86aae21f-f20e-4c84-8925-406f5a697e7e",
    "tags": []
   },
   "outputs": [
    {
     "name": "stdout",
     "output_type": "stream",
     "text": [
      "2024-04-17 15:06:20,612: Using the model weights from runs/reservoir_lstm_1704_143703/model_epoch001.pt\n",
      "# Evaluation: 100% 174/174 [00:58<00:00,  2.97it/s]\n",
      "2024-04-17 15:07:19,143: Stored metrics at runs/reservoir_lstm_1704_143703/train/model_epoch001/train_metrics.csv\n",
      "2024-04-17 15:07:19,398: Stored results at runs/reservoir_lstm_1704_143703/train/model_epoch001/train_results.p\n",
      "2024-04-17 15:07:19,424: Using the model weights from runs/reservoir_lstm_1704_143703/model_epoch002.pt\n",
      "# Evaluation: 100% 174/174 [00:55<00:00,  3.15it/s]\n",
      "2024-04-17 15:08:14,656: Stored metrics at runs/reservoir_lstm_1704_143703/train/model_epoch002/train_metrics.csv\n",
      "2024-04-17 15:08:14,855: Stored results at runs/reservoir_lstm_1704_143703/train/model_epoch002/train_results.p\n",
      "2024-04-17 15:08:14,878: Using the model weights from runs/reservoir_lstm_1704_143703/model_epoch003.pt\n",
      "# Evaluation: 100% 174/174 [00:55<00:00,  3.12it/s]\n",
      "2024-04-17 15:09:10,696: Stored metrics at runs/reservoir_lstm_1704_143703/train/model_epoch003/train_metrics.csv\n",
      "2024-04-17 15:09:10,869: Stored results at runs/reservoir_lstm_1704_143703/train/model_epoch003/train_results.p\n",
      "2024-04-17 15:09:10,898: Using the model weights from runs/reservoir_lstm_1704_143703/model_epoch004.pt\n",
      "# Evaluation: 100% 174/174 [00:54<00:00,  3.21it/s]\n",
      "2024-04-17 15:10:05,204: Stored metrics at runs/reservoir_lstm_1704_143703/train/model_epoch004/train_metrics.csv\n",
      "2024-04-17 15:10:05,377: Stored results at runs/reservoir_lstm_1704_143703/train/model_epoch004/train_results.p\n",
      "2024-04-17 15:10:05,400: Using the model weights from runs/reservoir_lstm_1704_143703/model_epoch005.pt\n",
      "# Evaluation: 100% 174/174 [00:54<00:00,  3.20it/s]\n",
      "2024-04-17 15:10:59,830: Stored metrics at runs/reservoir_lstm_1704_143703/train/model_epoch005/train_metrics.csv\n",
      "2024-04-17 15:11:00,057: Stored results at runs/reservoir_lstm_1704_143703/train/model_epoch005/train_results.p\n",
      "2024-04-17 15:11:00,080: Using the model weights from runs/reservoir_lstm_1704_143703/model_epoch006.pt\n",
      "# Evaluation: 100% 174/174 [00:53<00:00,  3.22it/s]\n",
      "2024-04-17 15:11:54,123: Stored metrics at runs/reservoir_lstm_1704_143703/train/model_epoch006/train_metrics.csv\n",
      "2024-04-17 15:11:54,269: Stored results at runs/reservoir_lstm_1704_143703/train/model_epoch006/train_results.p\n",
      "2024-04-17 15:11:54,334: Using the model weights from runs/reservoir_lstm_1704_143703/model_epoch007.pt\n",
      "# Evaluation: 100% 174/174 [00:53<00:00,  3.22it/s]\n",
      "2024-04-17 15:12:48,351: Stored metrics at runs/reservoir_lstm_1704_143703/train/model_epoch007/train_metrics.csv\n",
      "2024-04-17 15:12:48,475: Stored results at runs/reservoir_lstm_1704_143703/train/model_epoch007/train_results.p\n",
      "2024-04-17 15:12:48,493: Using the model weights from runs/reservoir_lstm_1704_143703/model_epoch008.pt\n",
      "# Evaluation: 100% 174/174 [00:54<00:00,  3.18it/s]\n",
      "2024-04-17 15:13:43,328: Stored metrics at runs/reservoir_lstm_1704_143703/train/model_epoch008/train_metrics.csv\n",
      "2024-04-17 15:13:43,474: Stored results at runs/reservoir_lstm_1704_143703/train/model_epoch008/train_results.p\n",
      "2024-04-17 15:13:43,497: Using the model weights from runs/reservoir_lstm_1704_143703/model_epoch009.pt\n",
      "# Evaluation: 100% 174/174 [00:54<00:00,  3.18it/s]\n",
      "2024-04-17 15:14:38,201: Stored metrics at runs/reservoir_lstm_1704_143703/train/model_epoch009/train_metrics.csv\n",
      "2024-04-17 15:14:38,341: Stored results at runs/reservoir_lstm_1704_143703/train/model_epoch009/train_results.p\n",
      "2024-04-17 15:14:38,360: Using the model weights from runs/reservoir_lstm_1704_143703/model_epoch010.pt\n",
      "# Evaluation: 100% 174/174 [00:54<00:00,  3.18it/s]\n",
      "2024-04-17 15:15:33,137: Stored metrics at runs/reservoir_lstm_1704_143703/train/model_epoch010/train_metrics.csv\n",
      "2024-04-17 15:15:33,308: Stored results at runs/reservoir_lstm_1704_143703/train/model_epoch010/train_results.p\n",
      "2024-04-17 15:15:33,354: Using the model weights from runs/reservoir_lstm_1704_143703/model_epoch001.pt\n",
      "# Evaluation:  74% 43/58 [00:09<00:04,  3.64it/s]"
     ]
    },
    {
     "name": "stderr",
     "output_type": "stream",
     "text": [
      "/storage/casadje/Documents/Git/lisflood-reservoirs/neuralhydrology/evaluation/metrics.py:310: ConstantInputWarning: An input array is constant; the correlation coefficient is not defined.\n",
      "  r, _ = stats.pearsonr(obs.values, sim.values)\n"
     ]
    },
    {
     "name": "stdout",
     "output_type": "stream",
     "text": [
      "# Evaluation: 100% 58/58 [00:13<00:00,  4.27it/s]\n",
      "2024-04-17 15:15:46,943: Stored metrics at runs/reservoir_lstm_1704_143703/test/model_epoch001/test_metrics.csv\n",
      "2024-04-17 15:15:46,982: Stored results at runs/reservoir_lstm_1704_143703/test/model_epoch001/test_results.p\n",
      "2024-04-17 15:15:47,027: Using the model weights from runs/reservoir_lstm_1704_143703/model_epoch002.pt\n",
      "# Evaluation:  74% 43/58 [00:07<00:03,  4.80it/s]"
     ]
    },
    {
     "name": "stderr",
     "output_type": "stream",
     "text": [
      "/storage/casadje/Documents/Git/lisflood-reservoirs/neuralhydrology/evaluation/metrics.py:310: ConstantInputWarning: An input array is constant; the correlation coefficient is not defined.\n",
      "  r, _ = stats.pearsonr(obs.values, sim.values)\n"
     ]
    },
    {
     "name": "stdout",
     "output_type": "stream",
     "text": [
      "# Evaluation: 100% 58/58 [00:10<00:00,  5.43it/s]\n",
      "2024-04-17 15:15:57,727: Stored metrics at runs/reservoir_lstm_1704_143703/test/model_epoch002/test_metrics.csv\n",
      "2024-04-17 15:15:57,752: Stored results at runs/reservoir_lstm_1704_143703/test/model_epoch002/test_results.p\n",
      "2024-04-17 15:15:57,769: Using the model weights from runs/reservoir_lstm_1704_143703/model_epoch003.pt\n",
      "# Evaluation:  74% 43/58 [00:07<00:04,  3.65it/s]"
     ]
    },
    {
     "name": "stderr",
     "output_type": "stream",
     "text": [
      "/storage/casadje/Documents/Git/lisflood-reservoirs/neuralhydrology/evaluation/metrics.py:310: ConstantInputWarning: An input array is constant; the correlation coefficient is not defined.\n",
      "  r, _ = stats.pearsonr(obs.values, sim.values)\n"
     ]
    },
    {
     "name": "stdout",
     "output_type": "stream",
     "text": [
      "# Evaluation: 100% 58/58 [00:09<00:00,  6.03it/s]\n",
      "2024-04-17 15:16:07,408: Stored metrics at runs/reservoir_lstm_1704_143703/test/model_epoch003/test_metrics.csv\n",
      "2024-04-17 15:16:07,431: Stored results at runs/reservoir_lstm_1704_143703/test/model_epoch003/test_results.p\n",
      "2024-04-17 15:16:07,449: Using the model weights from runs/reservoir_lstm_1704_143703/model_epoch004.pt\n",
      "# Evaluation:  76% 44/58 [00:06<00:03,  4.50it/s]"
     ]
    },
    {
     "name": "stderr",
     "output_type": "stream",
     "text": [
      "/storage/casadje/Documents/Git/lisflood-reservoirs/neuralhydrology/evaluation/metrics.py:310: ConstantInputWarning: An input array is constant; the correlation coefficient is not defined.\n",
      "  r, _ = stats.pearsonr(obs.values, sim.values)\n"
     ]
    },
    {
     "name": "stdout",
     "output_type": "stream",
     "text": [
      "# Evaluation: 100% 58/58 [00:08<00:00,  6.78it/s]\n",
      "2024-04-17 15:16:16,016: Stored metrics at runs/reservoir_lstm_1704_143703/test/model_epoch004/test_metrics.csv\n",
      "2024-04-17 15:16:16,038: Stored results at runs/reservoir_lstm_1704_143703/test/model_epoch004/test_results.p\n",
      "2024-04-17 15:16:16,056: Using the model weights from runs/reservoir_lstm_1704_143703/model_epoch005.pt\n",
      "# Evaluation:  76% 44/58 [00:06<00:03,  4.41it/s]"
     ]
    },
    {
     "name": "stderr",
     "output_type": "stream",
     "text": [
      "/storage/casadje/Documents/Git/lisflood-reservoirs/neuralhydrology/evaluation/metrics.py:310: ConstantInputWarning: An input array is constant; the correlation coefficient is not defined.\n",
      "  r, _ = stats.pearsonr(obs.values, sim.values)\n"
     ]
    },
    {
     "name": "stdout",
     "output_type": "stream",
     "text": [
      "# Evaluation: 100% 58/58 [00:08<00:00,  6.96it/s]\n",
      "2024-04-17 15:16:24,406: Stored metrics at runs/reservoir_lstm_1704_143703/test/model_epoch005/test_metrics.csv\n",
      "2024-04-17 15:16:24,432: Stored results at runs/reservoir_lstm_1704_143703/test/model_epoch005/test_results.p\n",
      "2024-04-17 15:16:24,454: Using the model weights from runs/reservoir_lstm_1704_143703/model_epoch006.pt\n",
      "# Evaluation:  76% 44/58 [00:06<00:02,  5.51it/s]"
     ]
    },
    {
     "name": "stderr",
     "output_type": "stream",
     "text": [
      "/storage/casadje/Documents/Git/lisflood-reservoirs/neuralhydrology/evaluation/metrics.py:310: ConstantInputWarning: An input array is constant; the correlation coefficient is not defined.\n",
      "  r, _ = stats.pearsonr(obs.values, sim.values)\n"
     ]
    },
    {
     "name": "stdout",
     "output_type": "stream",
     "text": [
      "# Evaluation: 100% 58/58 [00:08<00:00,  6.60it/s]\n",
      "2024-04-17 15:16:33,259: Stored metrics at runs/reservoir_lstm_1704_143703/test/model_epoch006/test_metrics.csv\n",
      "2024-04-17 15:16:33,279: Stored results at runs/reservoir_lstm_1704_143703/test/model_epoch006/test_results.p\n",
      "2024-04-17 15:16:33,295: Using the model weights from runs/reservoir_lstm_1704_143703/model_epoch007.pt\n",
      "# Evaluation:  76% 44/58 [00:06<00:03,  4.25it/s]"
     ]
    },
    {
     "name": "stderr",
     "output_type": "stream",
     "text": [
      "/storage/casadje/Documents/Git/lisflood-reservoirs/neuralhydrology/evaluation/metrics.py:310: ConstantInputWarning: An input array is constant; the correlation coefficient is not defined.\n",
      "  r, _ = stats.pearsonr(obs.values, sim.values)\n"
     ]
    },
    {
     "name": "stdout",
     "output_type": "stream",
     "text": [
      "# Evaluation: 100% 58/58 [00:08<00:00,  6.69it/s]\n",
      "2024-04-17 15:16:41,989: Stored metrics at runs/reservoir_lstm_1704_143703/test/model_epoch007/test_metrics.csv\n",
      "2024-04-17 15:16:42,050: Stored results at runs/reservoir_lstm_1704_143703/test/model_epoch007/test_results.p\n",
      "2024-04-17 15:16:42,098: Using the model weights from runs/reservoir_lstm_1704_143703/model_epoch008.pt\n",
      "# Evaluation:  74% 43/58 [00:07<00:03,  3.99it/s]"
     ]
    },
    {
     "name": "stderr",
     "output_type": "stream",
     "text": [
      "/storage/casadje/Documents/Git/lisflood-reservoirs/neuralhydrology/evaluation/metrics.py:310: ConstantInputWarning: An input array is constant; the correlation coefficient is not defined.\n",
      "  r, _ = stats.pearsonr(obs.values, sim.values)\n"
     ]
    },
    {
     "name": "stdout",
     "output_type": "stream",
     "text": [
      "# Evaluation: 100% 58/58 [00:10<00:00,  5.77it/s]\n",
      "2024-04-17 15:16:52,161: Stored metrics at runs/reservoir_lstm_1704_143703/test/model_epoch008/test_metrics.csv\n",
      "2024-04-17 15:16:52,184: Stored results at runs/reservoir_lstm_1704_143703/test/model_epoch008/test_results.p\n",
      "2024-04-17 15:16:52,215: Using the model weights from runs/reservoir_lstm_1704_143703/model_epoch009.pt\n",
      "# Evaluation:  76% 44/58 [00:06<00:02,  4.91it/s]"
     ]
    },
    {
     "name": "stderr",
     "output_type": "stream",
     "text": [
      "/storage/casadje/Documents/Git/lisflood-reservoirs/neuralhydrology/evaluation/metrics.py:310: ConstantInputWarning: An input array is constant; the correlation coefficient is not defined.\n",
      "  r, _ = stats.pearsonr(obs.values, sim.values)\n"
     ]
    },
    {
     "name": "stdout",
     "output_type": "stream",
     "text": [
      "# Evaluation: 100% 58/58 [00:08<00:00,  6.66it/s]\n",
      "2024-04-17 15:17:00,937: Stored metrics at runs/reservoir_lstm_1704_143703/test/model_epoch009/test_metrics.csv\n",
      "2024-04-17 15:17:00,960: Stored results at runs/reservoir_lstm_1704_143703/test/model_epoch009/test_results.p\n",
      "2024-04-17 15:17:00,976: Using the model weights from runs/reservoir_lstm_1704_143703/model_epoch010.pt\n",
      "# Evaluation:  76% 44/58 [00:08<00:03,  4.63it/s]"
     ]
    },
    {
     "name": "stderr",
     "output_type": "stream",
     "text": [
      "/storage/casadje/Documents/Git/lisflood-reservoirs/neuralhydrology/evaluation/metrics.py:310: ConstantInputWarning: An input array is constant; the correlation coefficient is not defined.\n",
      "  r, _ = stats.pearsonr(obs.values, sim.values)\n"
     ]
    },
    {
     "name": "stdout",
     "output_type": "stream",
     "text": [
      "# Evaluation: 100% 58/58 [00:10<00:00,  5.66it/s]\n",
      "2024-04-17 15:17:11,242: Stored metrics at runs/reservoir_lstm_1704_143703/test/model_epoch010/test_metrics.csv\n",
      "2024-04-17 15:17:11,284: Stored results at runs/reservoir_lstm_1704_143703/test/model_epoch010/test_results.p\n"
     ]
    }
   ],
   "source": [
    "for period in ['train', 'test']:\n",
    "    if run_all:\n",
    "        for epoch in np.arange(1, cfg.epochs + 1):\n",
    "            if torch.cuda.is_available(): # con GPU\n",
    "                eval_run(run_dir=run_dir, period=period, epoch=epoch, gpu=0)\n",
    "            else: # con CPU\n",
    "                eval_run(run_dir=run_dir, period=period, epoch=epoch, gpu=-1)\n",
    "    else:\n",
    "        if torch.cuda.is_available(): # con GPU\n",
    "            eval_run(run_dir=run_dir, period=period, epoch=best_epoch, gpu=0)\n",
    "        else: # con CPU\n",
    "            eval_run(run_dir=run_dir, period=period, epoch=best_epoch, gpu=-1)"
   ]
  },
  {
   "cell_type": "markdown",
   "metadata": {},
   "source": [
    "## Results\n",
    "\n",
    "### Evolution of training and validation"
   ]
  },
  {
   "cell_type": "code",
   "execution_count": 12,
   "metadata": {
    "tags": []
   },
   "outputs": [
    {
     "data": {
      "application/vnd.jupyter.widget-view+json": {
       "model_id": "ab817d1ebe0142b38f88635975b761cf",
       "version_major": 2,
       "version_minor": 0
      },
      "text/plain": [
       "period:   0%|          | 0/3 [00:00<?, ?it/s]"
      ]
     },
     "metadata": {},
     "output_type": "display_data"
    }
   ],
   "source": [
    "# extraer el rendimiento de cada época y muestra\n",
    "metrics = {period: pd.DataFrame(columns=range(1, cfg.epochs + 1)) for period in ['train', 'validation', 'test']}\n",
    "for period, df in tqdm(metrics.items(), desc='period'):\n",
    "    for epoch in df.columns:\n",
    "        try:\n",
    "            _, df[epoch] = get_results(run_dir, period, epoch=epoch)\n",
    "        except:\n",
    "            continue"
   ]
  },
  {
   "cell_type": "code",
   "execution_count": 14,
   "metadata": {
    "tags": []
   },
   "outputs": [
    {
     "data": {
      "text/html": [
       "<div>\n",
       "<style scoped>\n",
       "    .dataframe tbody tr th:only-of-type {\n",
       "        vertical-align: middle;\n",
       "    }\n",
       "\n",
       "    .dataframe tbody tr th {\n",
       "        vertical-align: top;\n",
       "    }\n",
       "\n",
       "    .dataframe thead th {\n",
       "        text-align: right;\n",
       "    }\n",
       "</style>\n",
       "<table border=\"1\" class=\"dataframe\">\n",
       "  <thead>\n",
       "    <tr style=\"text-align: right;\">\n",
       "      <th></th>\n",
       "      <th>1</th>\n",
       "      <th>2</th>\n",
       "      <th>3</th>\n",
       "      <th>4</th>\n",
       "      <th>5</th>\n",
       "      <th>6</th>\n",
       "      <th>7</th>\n",
       "      <th>8</th>\n",
       "      <th>9</th>\n",
       "      <th>10</th>\n",
       "    </tr>\n",
       "    <tr>\n",
       "      <th>basin</th>\n",
       "      <th></th>\n",
       "      <th></th>\n",
       "      <th></th>\n",
       "      <th></th>\n",
       "      <th></th>\n",
       "      <th></th>\n",
       "      <th></th>\n",
       "      <th></th>\n",
       "      <th></th>\n",
       "      <th></th>\n",
       "    </tr>\n",
       "  </thead>\n",
       "  <tbody>\n",
       "    <tr>\n",
       "      <th>725</th>\n",
       "      <td>0.449441</td>\n",
       "      <td>0.561991</td>\n",
       "      <td>NaN</td>\n",
       "      <td>NaN</td>\n",
       "      <td>0.483910</td>\n",
       "      <td>0.592641</td>\n",
       "      <td>NaN</td>\n",
       "      <td>0.568898</td>\n",
       "      <td>0.551763</td>\n",
       "      <td>NaN</td>\n",
       "    </tr>\n",
       "    <tr>\n",
       "      <th>2338</th>\n",
       "      <td>0.461411</td>\n",
       "      <td>0.402606</td>\n",
       "      <td>0.587517</td>\n",
       "      <td>NaN</td>\n",
       "      <td>NaN</td>\n",
       "      <td>0.506276</td>\n",
       "      <td>0.538376</td>\n",
       "      <td>NaN</td>\n",
       "      <td>NaN</td>\n",
       "      <td>NaN</td>\n",
       "    </tr>\n",
       "    <tr>\n",
       "      <th>1565</th>\n",
       "      <td>0.218295</td>\n",
       "      <td>0.268661</td>\n",
       "      <td>0.169933</td>\n",
       "      <td>NaN</td>\n",
       "      <td>0.246504</td>\n",
       "      <td>0.286961</td>\n",
       "      <td>NaN</td>\n",
       "      <td>NaN</td>\n",
       "      <td>NaN</td>\n",
       "      <td>NaN</td>\n",
       "    </tr>\n",
       "    <tr>\n",
       "      <th>829</th>\n",
       "      <td>-0.235245</td>\n",
       "      <td>-0.147866</td>\n",
       "      <td>NaN</td>\n",
       "      <td>NaN</td>\n",
       "      <td>NaN</td>\n",
       "      <td>NaN</td>\n",
       "      <td>NaN</td>\n",
       "      <td>-0.418069</td>\n",
       "      <td>NaN</td>\n",
       "      <td>NaN</td>\n",
       "    </tr>\n",
       "    <tr>\n",
       "      <th>2067</th>\n",
       "      <td>0.123223</td>\n",
       "      <td>0.319074</td>\n",
       "      <td>0.287307</td>\n",
       "      <td>NaN</td>\n",
       "      <td>NaN</td>\n",
       "      <td>NaN</td>\n",
       "      <td>NaN</td>\n",
       "      <td>0.250332</td>\n",
       "      <td>0.270311</td>\n",
       "      <td>0.307424</td>\n",
       "    </tr>\n",
       "    <tr>\n",
       "      <th>...</th>\n",
       "      <td>...</td>\n",
       "      <td>...</td>\n",
       "      <td>...</td>\n",
       "      <td>...</td>\n",
       "      <td>...</td>\n",
       "      <td>...</td>\n",
       "      <td>...</td>\n",
       "      <td>...</td>\n",
       "      <td>...</td>\n",
       "      <td>...</td>\n",
       "    </tr>\n",
       "    <tr>\n",
       "      <th>1078</th>\n",
       "      <td>0.186970</td>\n",
       "      <td>NaN</td>\n",
       "      <td>0.426554</td>\n",
       "      <td>0.458636</td>\n",
       "      <td>0.361766</td>\n",
       "      <td>0.422083</td>\n",
       "      <td>0.308922</td>\n",
       "      <td>0.382126</td>\n",
       "      <td>NaN</td>\n",
       "      <td>0.275326</td>\n",
       "    </tr>\n",
       "    <tr>\n",
       "      <th>441</th>\n",
       "      <td>0.178463</td>\n",
       "      <td>NaN</td>\n",
       "      <td>NaN</td>\n",
       "      <td>NaN</td>\n",
       "      <td>NaN</td>\n",
       "      <td>0.376979</td>\n",
       "      <td>0.418456</td>\n",
       "      <td>NaN</td>\n",
       "      <td>NaN</td>\n",
       "      <td>0.473727</td>\n",
       "    </tr>\n",
       "    <tr>\n",
       "      <th>2346</th>\n",
       "      <td>0.669235</td>\n",
       "      <td>0.671023</td>\n",
       "      <td>0.434089</td>\n",
       "      <td>0.564330</td>\n",
       "      <td>0.631388</td>\n",
       "      <td>NaN</td>\n",
       "      <td>NaN</td>\n",
       "      <td>0.747676</td>\n",
       "      <td>NaN</td>\n",
       "      <td>0.682182</td>\n",
       "    </tr>\n",
       "    <tr>\n",
       "      <th>2076</th>\n",
       "      <td>-0.083248</td>\n",
       "      <td>NaN</td>\n",
       "      <td>0.011260</td>\n",
       "      <td>NaN</td>\n",
       "      <td>NaN</td>\n",
       "      <td>-0.051651</td>\n",
       "      <td>-0.146376</td>\n",
       "      <td>-0.083271</td>\n",
       "      <td>NaN</td>\n",
       "      <td>0.065376</td>\n",
       "    </tr>\n",
       "    <tr>\n",
       "      <th>2175</th>\n",
       "      <td>0.594923</td>\n",
       "      <td>0.630337</td>\n",
       "      <td>0.654450</td>\n",
       "      <td>NaN</td>\n",
       "      <td>NaN</td>\n",
       "      <td>NaN</td>\n",
       "      <td>0.842755</td>\n",
       "      <td>NaN</td>\n",
       "      <td>NaN</td>\n",
       "      <td>NaN</td>\n",
       "    </tr>\n",
       "  </tbody>\n",
       "</table>\n",
       "<p>100 rows × 10 columns</p>\n",
       "</div>"
      ],
      "text/plain": [
       "             1         2         3         4         5         6         7   \\\n",
       "basin                                                                         \n",
       "725    0.449441  0.561991       NaN       NaN  0.483910  0.592641       NaN   \n",
       "2338   0.461411  0.402606  0.587517       NaN       NaN  0.506276  0.538376   \n",
       "1565   0.218295  0.268661  0.169933       NaN  0.246504  0.286961       NaN   \n",
       "829   -0.235245 -0.147866       NaN       NaN       NaN       NaN       NaN   \n",
       "2067   0.123223  0.319074  0.287307       NaN       NaN       NaN       NaN   \n",
       "...         ...       ...       ...       ...       ...       ...       ...   \n",
       "1078   0.186970       NaN  0.426554  0.458636  0.361766  0.422083  0.308922   \n",
       "441    0.178463       NaN       NaN       NaN       NaN  0.376979  0.418456   \n",
       "2346   0.669235  0.671023  0.434089  0.564330  0.631388       NaN       NaN   \n",
       "2076  -0.083248       NaN  0.011260       NaN       NaN -0.051651 -0.146376   \n",
       "2175   0.594923  0.630337  0.654450       NaN       NaN       NaN  0.842755   \n",
       "\n",
       "             8         9         10  \n",
       "basin                                \n",
       "725    0.568898  0.551763       NaN  \n",
       "2338        NaN       NaN       NaN  \n",
       "1565        NaN       NaN       NaN  \n",
       "829   -0.418069       NaN       NaN  \n",
       "2067   0.250332  0.270311  0.307424  \n",
       "...         ...       ...       ...  \n",
       "1078   0.382126       NaN  0.275326  \n",
       "441         NaN       NaN  0.473727  \n",
       "2346   0.747676       NaN  0.682182  \n",
       "2076  -0.083271       NaN  0.065376  \n",
       "2175        NaN       NaN       NaN  \n",
       "\n",
       "[100 rows x 10 columns]"
      ]
     },
     "execution_count": 14,
     "metadata": {},
     "output_type": "execute_result"
    }
   ],
   "source": [
    "metrics['validation']"
   ]
  },
  {
   "cell_type": "code",
   "execution_count": null,
   "metadata": {
    "tags": []
   },
   "outputs": [],
   "source": [
    "bp = plt.boxplot(metrics['test']);\n",
    "# for box in bp['boxes']:\n",
    "#     box.set_facecolor('steelblue')"
   ]
  },
  {
   "cell_type": "code",
   "execution_count": null,
   "metadata": {
    "tags": []
   },
   "outputs": [],
   "source": [
    "fig, ax = plt.subplots(figsize=(20, 5))\n",
    "\n",
    "colors = ['steelblue', 'indianred', 'khaki']\n",
    "for i, ((period, df), c) in enumerate(zip(metrics.items(), colors)):\n",
    "    bp = ax.boxplot(df, positions=df.columns + i * .25, widths=0.25,\n",
    "                    patch_artist=True,\n",
    "                    boxprops={'color': c, 'alpha': .5},\n",
    "                    # whiskerprops={},\n",
    "                    showfliers=False,\n",
    "                    medianprops={'color': 'k'})\n",
    "    for box in bp['boxes']:\n",
    "        box.set_facecolor(c)\n",
    "\n",
    "# ax.set_ylim(-1, 1);\n",
    "xticks = np.linspace(1, epochs, num=epochs).astype(int)\n",
    "ax.set_xticks(xticks)\n",
    "ax.set_xticklabels(xticks)\n",
    "ax.set(xlabel='epoch (-)',\n",
    "       ylabel=f'{metric} (-)');\n",
    "\n",
    "# plt.savefig(run_dir / 'evolucion_KGE.jpg', dpi=300, bbox_inches='tight')"
   ]
  },
  {
   "cell_type": "markdown",
   "metadata": {},
   "source": [
    "### Best epoch"
   ]
  },
  {
   "cell_type": "code",
   "execution_count": null,
   "metadata": {
    "tags": []
   },
   "outputs": [],
   "source": [
    "# mejor época de cada muestra y el rendimiento de cada muestra en esa época\n",
    "best_epoch = {}\n",
    "for period, df in metrics.items():\n",
    "    epoch = df.median().idxmax()\n",
    "    best_epoch[period] = epoch\n",
    "    print('epoch {0:>2}:\\tKGEtrain = {1:.3f}   KGEval = {2:.3f}   KGEtest = {3:.3f}'.format(epoch,\n",
    "                                                                                         metrics['train'][epoch].median(),\n",
    "                                                                                         metrics['validation'][epoch].median(),\n",
    "                                                                                         metrics['test'][epoch].median()))\n",
    "epoch = best_epoch['validation']"
   ]
  },
  {
   "cell_type": "code",
   "execution_count": null,
   "metadata": {
    "tags": []
   },
   "outputs": [],
   "source": [
    "# rendimiento y series simuladas de la mejor época\n",
    "series = {}\n",
    "rendimiento = pd.DataFrame()\n",
    "for period in ['train', 'validation', 'test']:\n",
    "    # importar resultados\n",
    "    series_period, rend_period = get_results(run_dir, period, epoch=epoch)\n",
    "    rend_period.columns = [period]\n",
    "    series[period] = series_period\n",
    "    rendimiento = pd.concat((rendimiento, rend_period), axis=1)"
   ]
  },
  {
   "cell_type": "code",
   "execution_count": null,
   "metadata": {
    "tags": []
   },
   "outputs": [],
   "source": [
    "# hidrogramas\n",
    "# if hidrogramas:\n",
    "for period, dct in series.items():\n",
    "    path = run_dir / 'plots' / period\n",
    "    path.mkdir(parents=True, exist_ok=True)\n",
    "    plot_results(dct, period, target, save=path)"
   ]
  },
  {
   "cell_type": "code",
   "execution_count": null,
   "metadata": {},
   "outputs": [],
   "source": [
    "rendimiento"
   ]
  },
  {
   "cell_type": "code",
   "execution_count": null,
   "metadata": {},
   "outputs": [],
   "source": []
  }
 ],
 "metadata": {
  "accelerator": "GPU",
  "colab": {
   "gpuType": "V100",
   "provenance": []
  },
  "kernelspec": {
   "display_name": "Python [neuralhydrology]",
   "language": "python",
   "name": "conda-env-neuralhydrology-py"
  },
  "language_info": {
   "codemirror_mode": {
    "name": "ipython",
    "version": 3
   },
   "file_extension": ".py",
   "mimetype": "text/x-python",
   "name": "python",
   "nbconvert_exporter": "python",
   "pygments_lexer": "ipython3",
   "version": "3.10.14"
  }
 },
 "nbformat": 4,
 "nbformat_minor": 4
}
